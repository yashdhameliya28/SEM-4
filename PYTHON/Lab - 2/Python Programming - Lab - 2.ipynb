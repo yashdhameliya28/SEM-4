{
 "cells": [
  {
   "cell_type": "markdown",
   "metadata": {},
   "source": [
    "\n",
    "<a href='https://www.darshan.ac.in/'> <img src='https://www.darshan.ac.in/Content/media/DU_Logo.svg' width=\"250\" height=\"300\"/></a>\n",
    "<pre>\n",
    "<center><b><h1>Python Programming - 2301CS404</b></center>\n",
    "<center><b><h1>Lab - 2</b></center>\n",
    "    <center><b><h1>Yash Dhameliya</b></center>\n",
    "        <center><b><h1>23010101061</b></center>\n",
    "\n",
    "            <center><b><h1>4-12-2024</b></center>\n",
    "<pre>"
   ]
  },
  {
   "cell_type": "markdown",
   "metadata": {},
   "source": [
    "# if..else.."
   ]
  },
  {
   "cell_type": "markdown",
   "metadata": {},
   "source": [
    "### 01) WAP to check whether the given number is positive or negative."
   ]
  },
  {
   "cell_type": "code",
   "execution_count": 4,
   "metadata": {},
   "outputs": [
    {
     "name": "stdin",
     "output_type": "stream",
     "text": [
      "Enter the value of n :  -2\n"
     ]
    },
    {
     "name": "stdout",
     "output_type": "stream",
     "text": [
      "Given number is negative.\n"
     ]
    }
   ],
   "source": [
    "n = int(input(\"Enter the value of n : \"))\n",
    "if(n > 0):\n",
    "    print(\"Given number is positive.\")\n",
    "else:\n",
    "    print(\"Given number is negative.\")"
   ]
  },
  {
   "cell_type": "markdown",
   "metadata": {},
   "source": [
    "### 02) WAP to check whether the given number is odd or even."
   ]
  },
  {
   "cell_type": "code",
   "execution_count": 8,
   "metadata": {},
   "outputs": [
    {
     "name": "stdin",
     "output_type": "stream",
     "text": [
      "Enter a number :  5\n"
     ]
    },
    {
     "name": "stdout",
     "output_type": "stream",
     "text": [
      "Given number is odd.\n"
     ]
    }
   ],
   "source": [
    "n = int(input(\"Enter a number : \"))\n",
    "if(n % 2 == 0):\n",
    "    print(\"Given number is even.\")\n",
    "else:\n",
    "    print(\"Given number is odd.\")"
   ]
  },
  {
   "cell_type": "markdown",
   "metadata": {},
   "source": [
    "### 03) WAP to find out largest number from given two numbers using simple if and ternary operator."
   ]
  },
  {
   "cell_type": "code",
   "execution_count": 15,
   "metadata": {},
   "outputs": [
    {
     "name": "stdin",
     "output_type": "stream",
     "text": [
      "Enter first number :  2\n",
      "Enter second number :  3\n"
     ]
    },
    {
     "name": "stdout",
     "output_type": "stream",
     "text": [
      "num2 is largest number.\n"
     ]
    }
   ],
   "source": [
    "num1 = int(input(\"Enter first number : \"))\n",
    "num2 = int(input(\"Enter second number : \"))\n",
    "\n",
    "#using if..else..\n",
    "if(num1 > num2):\n",
    "    print(\"num1 is largest number.\")\n",
    "else:\n",
    "    print(\"num2 is largest number.\")\n",
    "\n"
   ]
  },
  {
   "cell_type": "code",
   "execution_count": null,
   "metadata": {},
   "outputs": [],
   "source": [
    "#using ternary operator\n",
    "\n",
    "print(\"num1 is largest number.\") if(num1 > num2) else print(\"num2 is largest number.\")"
   ]
  },
  {
   "cell_type": "markdown",
   "metadata": {},
   "source": [
    "### 04) WAP to find out largest number from given three numbers."
   ]
  },
  {
   "cell_type": "code",
   "execution_count": 21,
   "metadata": {
    "scrolled": true
   },
   "outputs": [
    {
     "name": "stdin",
     "output_type": "stream",
     "text": [
      "Enter first number :  1\n",
      "Enter second number :  2\n",
      "Enter third number :  3\n"
     ]
    },
    {
     "name": "stdout",
     "output_type": "stream",
     "text": [
      "Largest number :  3\n"
     ]
    }
   ],
   "source": [
    "num1 = int(input(\"Enter first number : \"))\n",
    "num2 = int(input(\"Enter second number : \"))\n",
    "num3 = int(input(\"Enter third number : \"))\n",
    "\n",
    "temp = num1 if(num1 > num2) else num2\n",
    "ans = temp if(temp > num3) else num3\n",
    "\n",
    "print(\"Largest number :\",ans)"
   ]
  },
  {
   "cell_type": "markdown",
   "metadata": {},
   "source": [
    "### 05) WAP to check whether the given year is leap year or not.\n",
    "[If a year can be divisible by 4 but not divisible by 100 then it is leap year but if it is divisible by 400 then it is leap year]"
   ]
  },
  {
   "cell_type": "markdown",
   "metadata": {},
   "source": [
    "### 06) WAP in python to display the name of the day according to the number given by the user."
   ]
  },
  {
   "cell_type": "code",
   "execution_count": 27,
   "metadata": {},
   "outputs": [
    {
     "name": "stdin",
     "output_type": "stream",
     "text": [
      "Enter a year to check leap year :  2024\n"
     ]
    },
    {
     "name": "stdout",
     "output_type": "stream",
     "text": [
      "Given year is leap year.\n"
     ]
    }
   ],
   "source": [
    "year = int(input(\"Enter a year to check leap year : \"))\n",
    "\n",
    "if(year % 4 == 0 and year % 100 != 0):\n",
    "    print(\"Given year is leap year.\")\n",
    "elif(year % 400 == 0):\n",
    "    print(\"Given year is leap year.\")\n",
    "else:\n",
    "    print(\"Given year is not leap year.\")"
   ]
  },
  {
   "cell_type": "code",
   "execution_count": 55,
   "metadata": {},
   "outputs": [
    {
     "name": "stdin",
     "output_type": "stream",
     "text": [
      "Enter a number 1 to 7 :  2\n"
     ]
    },
    {
     "name": "stdout",
     "output_type": "stream",
     "text": [
      "Tuesday\n"
     ]
    }
   ],
   "source": [
    "day = int(input(\"Enter a number 1 to 7 : \"))\n",
    "\n",
    "match day:\n",
    "    case 1:\n",
    "        print(\"Monday\")\n",
    "    case 2:\n",
    "        print(\"Tuesday\")\n",
    "    case 3:\n",
    "        print(\"Wednesday\")\n",
    "    case 4:\n",
    "        print(\"Thursday\")\n",
    "    case 5:\n",
    "        print(\"Friday\")\n",
    "    case 6:\n",
    "        print(\"Saturday\")\n",
    "    case 7:\n",
    "        print(\"Sunday\")"
   ]
  },
  {
   "cell_type": "markdown",
   "metadata": {},
   "source": [
    "### 07) WAP to implement simple calculator which performs (add,sub,mul,div) of two no. based on user input."
   ]
  },
  {
   "cell_type": "code",
   "execution_count": 43,
   "metadata": {},
   "outputs": [
    {
     "name": "stdin",
     "output_type": "stream",
     "text": [
      "Enter a operator :  /\n",
      "Enter first number :  4\n",
      "Enter second number :  2\n"
     ]
    },
    {
     "name": "stdout",
     "output_type": "stream",
     "text": [
      "2\n"
     ]
    }
   ],
   "source": [
    "operator = input(\"Enter a operator : \")\n",
    "num1 = int(input(\"Enter first number : \"))\n",
    "num2 = int(input(\"Enter second number : \"))\n",
    "\n",
    "match operator:\n",
    "    case '+':\n",
    "        print(num1 + num2)\n",
    "    case '-':\n",
    "        print(num1 - num2)\n",
    "    case '*':\n",
    "        print(num1 * num2)\n",
    "    case '/':\n",
    "        print(num1 // num2)\n"
   ]
  },
  {
   "cell_type": "markdown",
   "metadata": {},
   "source": [
    "### 08) WAP to read marks of five subjects. Calculate percentage and print class accordingly. \n",
    "Fail below 35 </br>\n",
    "Pass Class between 35 to 45 </br>\n",
    "Second Class</br>\n",
    "between 45 to 60</br>\n",
    "First Class between 60 to 70</br> \n",
    "Distinction if more than 70"
   ]
  },
  {
   "cell_type": "code",
   "execution_count": 53,
   "metadata": {},
   "outputs": [
    {
     "name": "stdin",
     "output_type": "stream",
     "text": [
      "Enter first subject mark :  50\n",
      "Enter second subject mark :  50\n",
      "Enter third subject mark :  50\n",
      "Enter forth subject mark :  50\n",
      "Enter fifth subject mark :  50\n"
     ]
    },
    {
     "name": "stdout",
     "output_type": "stream",
     "text": [
      "50.0\n"
     ]
    }
   ],
   "source": [
    "sub1 = int(input(\"Enter first subject mark : \"))\n",
    "sub2 = int(input(\"Enter second subject mark : \"))\n",
    "sub3 = int(input(\"Enter third subject mark : \"))\n",
    "sub4 = int(input(\"Enter forth subject mark : \"))\n",
    "sub5 = int(input(\"Enter fifth subject mark : \"))\n",
    "\n",
    "percentage = ((sub1 + sub2 + sub3 + sub4 + sub5)/500)*100\n",
    "\n",
    "if(percentage < 35):\n",
    "    print(\"You are fail!!!!\")\n",
    "elif(percentage > 35 and percentage < 45):\n",
    "    print(\"You are passsss\")\n",
    "elif(percentage > 45 and percentage < 60):\n",
    "    print(\"You have second class\")\n",
    "elif(percentage > 60 and percentage < 70):\n",
    "    print(\"You have first class\")\n",
    "elif(percentage > 70):\n",
    "    print(\"Distinction\")\n"
   ]
  },
  {
   "cell_type": "markdown",
   "metadata": {},
   "source": [
    "### 09) Three sides of a triangle are entered through the keyboard, WAP to check whether the triangle is isosceles, equilateral, scalene or right-angled triangle."
   ]
  },
  {
   "cell_type": "code",
   "execution_count": null,
   "metadata": {},
   "outputs": [],
   "source": [
    "s1 = int(input(\"Enter s1\"))\n",
    "s2 = int(input(\"Enter s2\"))\n",
    "s3 = int(input(\"Enter s3\"))\n",
    "if(s1==s2 and s2==s3 and s3==s1):\n",
    "    print(\"The triangle is equilateral\")\n",
    "elif(s1==s2 or s2==s3 or s3==s1):\n",
    "    print(\"The triangle is isosceles\")\n",
    "elif(((s1*s1) + (s2*s2) == (s3*s3)) or ((s1*s1) + (s3*s3) == (s2*s2)) or ((s3*s3) + (s2*s2) == (s1*s1))):\n",
    "    print(\"The triangle is right-angle\")\n",
    "elif(s1!=s2 and s2!=s3 and s3!=s1):\n",
    "    print(\"The triangle is scalene\")"
   ]
  },
  {
   "cell_type": "markdown",
   "metadata": {},
   "source": [
    "### 10) WAP to find the second largest number among three user input numbers."
   ]
  },
  {
   "cell_type": "code",
   "execution_count": null,
   "metadata": {},
   "outputs": [],
   "source": [
    "Num1=int(input(\"enter first number:\"))\n",
    "Num2=int(input(\"enter second number:\"))\n",
    "Num3=int(input(\"enter third number:\"))\n",
    "\n",
    "if(Num1>Num2):\n",
    "    if(Num2>Num3):\n",
    "        print( Num2,\" is Second Largest number.\")\n",
    "elif(Num1>Num3):\n",
    "    if(Num2>Num1):\n",
    "        print(Num1,\" is Second Largest Number.\")\n",
    "else:\n",
    "    print(Num3,\" is Second Largest Number\")"
   ]
  },
  {
   "cell_type": "markdown",
   "metadata": {},
   "source": [
    "### 11) WAP to calculate electricity bill based on following criteria. Which takes the unit from the user.\n",
    "a. First 1 to 50 units – Rs. 2.60/unit</br>\n",
    "b. Next 50 to 100 units – Rs. 3.25/unit</br>\n",
    "c. Next 100 to 200 units – Rs. 5.26/unit</br>\n",
    "d. above 200 units – Rs. 8.45/unit"
   ]
  },
  {
   "cell_type": "code",
   "execution_count": null,
   "metadata": {},
   "outputs": [],
   "source": [
    "unit=int(input(\"enter unit\"))\n",
    "if(unit<50):\n",
    "    ans=unit*2.60\n",
    "elif(unit>=50 and unit<100):\n",
    "    ans=(50*2.60)+((unit-50)*3.25)\n",
    "elif(unit>=100 and unit<200):\n",
    "    ans=(50*2.60)+(50*3.25)+((unit-100)*5.26)\n",
    "else:\n",
    "    ans=(50*2.60)+(50*3.25)+((100*5.26))+((unit-200)*8.45)\n",
    "print(ans)"
   ]
  }
 ],
 "metadata": {
  "kernelspec": {
   "display_name": "Python 3 (ipykernel)",
   "language": "python",
   "name": "python3"
  },
  "language_info": {
   "codemirror_mode": {
    "name": "ipython",
    "version": 3
   },
   "file_extension": ".py",
   "mimetype": "text/x-python",
   "name": "python",
   "nbconvert_exporter": "python",
   "pygments_lexer": "ipython3",
   "version": "3.12.7"
  }
 },
 "nbformat": 4,
 "nbformat_minor": 4
}
