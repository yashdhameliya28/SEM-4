{
 "cells": [
  {
   "cell_type": "markdown",
   "metadata": {},
   "source": [
    "\n",
    "<a href='https://www.darshan.ac.in/'> <img src='https://www.darshan.ac.in/Content/media/DU_Logo.svg' width=\"250\" height=\"300\"/></a>\n",
    "<pre>\n",
    "<center><b><h1>Python Programming - 2301CS404</b></center>\n",
    "<center><b><h1>Lab - 4</b></center>    \n",
    "\n",
    "    <center><b><h1>Yash Dhameliya</b></center>    \n",
    "\n",
    "        <center><b><h1>23010101061</b></center>    \n",
    "\n",
    "            <center><b><h1>18-12-2024</b></center>    \n",
    "<pre>"
   ]
  },
  {
   "cell_type": "markdown",
   "metadata": {},
   "source": [
    "# String"
   ]
  },
  {
   "cell_type": "markdown",
   "metadata": {},
   "source": [
    "### 01) WAP to check whether the given string is palindrome or not."
   ]
  },
  {
   "cell_type": "code",
   "execution_count": null,
   "metadata": {},
   "outputs": [],
   "source": [
    "string1 = input(\"Enter a string\")\n",
    "if string1 == string1[::-1]:\n",
    "    print(\"the given string is palindrome\")\n",
    "else :\n",
    "    print('the given string is not palindrome')"
   ]
  },
  {
   "cell_type": "markdown",
   "metadata": {},
   "source": [
    "### 02) WAP to reverse the words in the given string."
   ]
  },
  {
   "cell_type": "code",
   "execution_count": 1,
   "metadata": {},
   "outputs": [
    {
     "name": "stdin",
     "output_type": "stream",
     "text": [
      "Enter a string yash\n"
     ]
    },
    {
     "name": "stdout",
     "output_type": "stream",
     "text": [
      "Reverse string :  hsay\n"
     ]
    }
   ],
   "source": [
    "string1 = input(\"Enter a string\")\n",
    "print( \"Reverse string : \",string1[::-1])"
   ]
  },
  {
   "cell_type": "markdown",
   "metadata": {},
   "source": [
    "### 03) WAP to remove ith character from given string."
   ]
  },
  {
   "cell_type": "code",
   "execution_count": null,
   "metadata": {},
   "outputs": [],
   "source": [
    "s = input(\"Enter a string\")\n",
    "i = int(input(\"Enter a index to remove\"))\n",
    "\n",
    "new = s[:i] + s[i + 1:]\n",
    "\n",
    "print(new)"
   ]
  },
  {
   "cell_type": "markdown",
   "metadata": {},
   "source": [
    "### 04) WAP to find length of string without using len function."
   ]
  },
  {
   "cell_type": "code",
   "execution_count": null,
   "metadata": {},
   "outputs": [],
   "source": [
    "s = input(\"Enter a string\")\n",
    "count = 0\n",
    "for i in s :\n",
    "    count+=1\n",
    "print(count)"
   ]
  },
  {
   "cell_type": "markdown",
   "metadata": {},
   "source": [
    "### 05) WAP to print even length word in string."
   ]
  },
  {
   "cell_type": "code",
   "execution_count": 5,
   "metadata": {},
   "outputs": [
    {
     "name": "stdin",
     "output_type": "stream",
     "text": [
      "Enter a string:  yash dhameliya\n"
     ]
    },
    {
     "name": "stdout",
     "output_type": "stream",
     "text": [
      "Even length words: yash\n"
     ]
    }
   ],
   "source": [
    "s = input(\"Enter a string: \")\n",
    "words = s.split()\n",
    "even_length_words = [word for word in words if len(word) % 2 == 0]\n",
    "print(\"Even length words:\", \" \".join(even_length_words))\n"
   ]
  },
  {
   "cell_type": "markdown",
   "metadata": {},
   "source": [
    "### 06) WAP to count numbers of vowels in given string."
   ]
  },
  {
   "cell_type": "code",
   "execution_count": null,
   "metadata": {},
   "outputs": [],
   "source": [
    "s = input(\"Enter a string\")\n",
    "count = 0\n",
    "for i in s :\n",
    "    if i == 'a ' or i == 'e' or i=='o' or i=='u' or i == 'i':\n",
    "        count+=1\n",
    "\n",
    "print(count)"
   ]
  },
  {
   "cell_type": "markdown",
   "metadata": {},
   "source": [
    "### 07) WAP to capitalize the first and last character of each word in a string."
   ]
  },
  {
   "cell_type": "code",
   "execution_count": null,
   "metadata": {},
   "outputs": [],
   "source": [
    "s = input(\"Enter a string: \")\n",
    "words = s.split()\n",
    "\n",
    "new_words = []\n",
    "\n",
    "for word in words:\n",
    "    if len(word) == 1:\n",
    "        new_word = word.upper()\n",
    "    else:\n",
    "    new_words.append(word[0].upper() + word[1:-1] + word[-1].upper())\n",
    "\n",
    "new_string = \" \".join(new_words)\n",
    "print(\"Modified String:\", new_string)\n"
   ]
  },
  {
   "cell_type": "markdown",
   "metadata": {},
   "source": [
    "### 08) WAP to convert given array to string."
   ]
  },
  {
   "cell_type": "code",
   "execution_count": null,
   "metadata": {},
   "outputs": [],
   "source": [
    "arr = input(\"Enter the elements of the array separated by spaces: \").split()\n",
    "\n",
    "result_string = \" \".join(arr)\n",
    "\n",
    "print(\"The converted string is:\", result_string)"
   ]
  },
  {
   "cell_type": "markdown",
   "metadata": {},
   "source": [
    "### 09) Check if the password and confirm password is same or not. \n",
    "### In case of only case's mistake, show the error message."
   ]
  },
  {
   "cell_type": "code",
   "execution_count": null,
   "metadata": {},
   "outputs": [],
   "source": [
    "password = input(\"Enter Password: \")\n",
    "confirm_password = input(\"Enter Confirm Password: \")\n",
    "\n",
    "if password == confirm_password:\n",
    "    print(\"Passwords match! \")\n",
    "elif password.lower() == confirm_password.lower():\n",
    "    print(\"Passwords don't match due to case difference. Please check the case! \")\n",
    "else:\n",
    "    print (\"Passwords do not match! \")"
   ]
  },
  {
   "cell_type": "raw",
   "metadata": {},
   "source": [
    "### 10) : Display credit card number. \n",
    "### card no. : 1234 5678 9012 3456\n",
    "### display as  : **** **** **** 3456"
   ]
  },
  {
   "cell_type": "code",
   "execution_count": null,
   "metadata": {},
   "outputs": [],
   "source": [
    "card_number = input(\"Enter your credit card number : \")\n",
    "\n",
    "parts = card_number.split()\n",
    "\n",
    "maked_card_number = \"**** \" * (len(parts) - 1) + parts[-1]\n",
    "\n",
    "print(\"Maked Card Number:\", maked_card_number)"
   ]
  },
  {
   "cell_type": "markdown",
   "metadata": {},
   "source": [
    "### 11) : Checking if the two strings are Anagram or not.\n",
    "### s1 = decimal and s2 = medical are Anagram"
   ]
  },
  {
   "cell_type": "code",
   "execution_count": 7,
   "metadata": {},
   "outputs": [
    {
     "name": "stdin",
     "output_type": "stream",
     "text": [
      "Enter the first string:  decimal\n",
      "Enter the second string:  medical\n"
     ]
    },
    {
     "name": "stdout",
     "output_type": "stream",
     "text": [
      "The string are Anagram.\n"
     ]
    }
   ],
   "source": [
    "s1 = input(\"Enter the first string: \").lower()\n",
    "s2 = input(\"Enter the second string: \").lower()\n",
    "if sorted(s1) == sorted(s2):\n",
    "    print(\"The string are Anagram.\")\n",
    "else:\n",
    "    print(\"The string are not Anagram.\")"
   ]
  },
  {
   "cell_type": "markdown",
   "metadata": {},
   "source": [
    "### 12) : Rearrange the given string. First lowercase then uppercase alphabets.\n",
    "### input : EHlsarwiwhtwMV\n",
    "### output : lsarwiwhtwEHMV"
   ]
  },
  {
   "cell_type": "code",
   "execution_count": null,
   "metadata": {},
   "outputs": [],
   "source": [
    "s = input(\"Enter a string: \")\n",
    "\n",
    "lowercase = [char for char in s if char.islower()]\n",
    "uppercase = [char for char in s if char.isupper()]\n",
    "\n",
    "result = ''.join(lowercase) + ''.join(uppercase)\n",
    "\n",
    "print(\"Rearranged String:\", result)\n"
   ]
  }
 ],
 "metadata": {
  "kernelspec": {
   "display_name": "Python 3 (ipykernel)",
   "language": "python",
   "name": "python3"
  },
  "language_info": {
   "codemirror_mode": {
    "name": "ipython",
    "version": 3
   },
   "file_extension": ".py",
   "mimetype": "text/x-python",
   "name": "python",
   "nbconvert_exporter": "python",
   "pygments_lexer": "ipython3",
   "version": "3.12.7"
  },
  "vscode": {
   "interpreter": {
    "hash": "31f2aee4e71d21fbe5cf8b01ff0e069b9275f58929596ceb00d14d90e3e16cd6"
   }
  }
 },
 "nbformat": 4,
 "nbformat_minor": 4
}
