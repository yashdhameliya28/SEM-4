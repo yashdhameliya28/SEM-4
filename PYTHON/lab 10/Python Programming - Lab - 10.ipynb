{
 "cells": [
  {
   "cell_type": "markdown",
   "metadata": {},
   "source": [
    "<a href='https://www.darshan.ac.in/'> <img src='https://www.darshan.ac.in/Content/media/DU_Logo.svg' width=\"250\" height=\"300\"/></a>\n",
    "<pre>\n",
    "<center><b><h1>Python Programming - 2301CS404</b></center>\n",
    "<center><b><h1>Lab - 10</b></center>\n",
    "    <center><b><h1>Yash Dhameliya</b></center>\n",
    "        <center><b><h1>23010101061</b></center>\n",
    "            <center><b><h1>5-2-2025</b></center>\n",
    "<pre>"
   ]
  },
  {
   "cell_type": "markdown",
   "metadata": {},
   "source": [
    "# Exception Handling"
   ]
  },
  {
   "cell_type": "markdown",
   "metadata": {},
   "source": [
    "### 01) WAP to handle following exceptions:\n",
    "1. ZeroDivisionError\n",
    "2. ValueError\n",
    "3. TypeError\n",
    "#### Note: handle them using separate except blocks and also using single except block too."
   ]
  },
  {
   "cell_type": "code",
   "execution_count": 14,
   "metadata": {},
   "outputs": [
    {
     "name": "stdin",
     "output_type": "stream",
     "text": [
      "Enter first number :  4\n",
      "Enter second number :  2\n"
     ]
    },
    {
     "name": "stdout",
     "output_type": "stream",
     "text": [
      "2\n",
      "Some Runtime Error.\n"
     ]
    }
   ],
   "source": [
    "try:\n",
    "    a = int(input(\"Enter first number : \"))\n",
    "    b = int(input(\"Enter second number : \"))\n",
    "    c = a // b \n",
    "    print(c)\n",
    "    print(2 + '3')\n",
    "except ZeroDivisionError:\n",
    "    print(\"Can not divide a number by 0.\")\n",
    "except ValueError:\n",
    "    print(\"Please enter valid integer number, string is not allowed.\")\n",
    "except:\n",
    "    print(\"Some Runtime Error.\")  "
   ]
  },
  {
   "cell_type": "markdown",
   "metadata": {},
   "source": [
    "### 02)  WAP to handle following exceptions:\n",
    "1. IndexError\n",
    "2. KeyError"
   ]
  },
  {
   "cell_type": "code",
   "execution_count": 24,
   "metadata": {},
   "outputs": [
    {
     "name": "stdin",
     "output_type": "stream",
     "text": [
      "Enter a number to know subject name 5\n"
     ]
    },
    {
     "name": "stdout",
     "output_type": "stream",
     "text": [
      "key error\n"
     ]
    }
   ],
   "source": [
    "# list_length = int(input(\"Enter length of list\"))\n",
    "# list = [input(\"Enter element of list\") for i in range(0, list_length)]\n",
    "# try:\n",
    "#     index = int(input(\"Enter a index\"))\n",
    "#     print(list[index])\n",
    "# except IndexError as err:\n",
    "    # print(err)\n",
    "\n",
    " \n",
    "subjects = {1: 'Maths', \n",
    "\t\t\t2: 'Biology', \n",
    "\t\t\t3: 'Science', \n",
    "\t\t\t4: 'Hindi'} \n",
    "try: \n",
    "    num = int(input(\"Enter a number to know subject name\"))\n",
    "    print(subjects[num])\n",
    "except KeyError : \n",
    "\tprint(\"key error\") "
   ]
  },
  {
   "cell_type": "markdown",
   "metadata": {},
   "source": [
    "### 03) WAP to handle following exceptions:\n",
    "1. FileNotFoundError\n",
    "2. ModuleNotFoundError"
   ]
  },
  {
   "cell_type": "code",
   "execution_count": 36,
   "metadata": {},
   "outputs": [
    {
     "name": "stdout",
     "output_type": "stream",
     "text": [
      "Module not found\n"
     ]
    }
   ],
   "source": [
    "# try:\n",
    "#     fp = open(\"file1.txt\", \"r\")\n",
    "#     print(fp.read())\n",
    "#     fp.close()\n",
    "# except:\n",
    "#     print(\"File not found error\")\n",
    "\n",
    "try:\n",
    "    import maths\n",
    "    num = int(input(\"Enter a number for find squreroot\"))\n",
    "    print(maths.sqrt(number))\n",
    "except:\n",
    "    print(\"Module not found\")"
   ]
  },
  {
   "cell_type": "markdown",
   "metadata": {},
   "source": [
    "### 04) WAP that catches all type of exceptions in a single except block."
   ]
  },
  {
   "cell_type": "code",
   "execution_count": 49,
   "metadata": {},
   "outputs": [
    {
     "name": "stdin",
     "output_type": "stream",
     "text": [
      "Enter length of list 2\n",
      "Enter element of list 1\n",
      "Enter element of list 2\n",
      "Enter a index 3\n"
     ]
    },
    {
     "name": "stdout",
     "output_type": "stream",
     "text": [
      "list index out of range\n"
     ]
    }
   ],
   "source": [
    "\n",
    "list_length = int(input(\"Enter length of list\"))\n",
    "list = [input(\"Enter element of list\") for i in range(0, list_length)]\n",
    "try:\n",
    "    index = int(input(\"Enter a index\"))\n",
    "    print(list[index])\n",
    "    fp = open(\"file1.txt\", \"r\")\n",
    "    print(fp.read())\n",
    "    fp.close()\n",
    "except (IndexError, FileNotFoundError) as err :\n",
    "    print(err)\n"
   ]
  },
  {
   "cell_type": "markdown",
   "metadata": {},
   "source": [
    "### 05) WAP to demonstrate else  and finally block."
   ]
  },
  {
   "cell_type": "code",
   "execution_count": null,
   "metadata": {},
   "outputs": [],
   "source": [
    "try:\n",
    "    fp = open(\"file1.txt\", \"r\")\n",
    "except:\n",
    "    print(\"File not found error\")\n",
    "else:\n",
    "    print(fp.read())\n",
    "    fp.close()\n",
    "finally:\n",
    "    print(\"Finally block excute\")"
   ]
  },
  {
   "cell_type": "markdown",
   "metadata": {},
   "source": [
    "### 06) Create a short program that prompts the user for a list of grades separated by commas. \n",
    "### Split the string into individual grades and use a list comprehension to convert each string to an integer. \n",
    "### You should use a try statement to inform the user when the values they entered cannot be converted."
   ]
  },
  {
   "cell_type": "code",
   "execution_count": 67,
   "metadata": {},
   "outputs": [
    {
     "name": "stdout",
     "output_type": "stream",
     "text": [
      "values can not converted\n"
     ]
    }
   ],
   "source": [
    "list = [input(\"Enter a element of list\") for i in range(0, int(input(\"Enter list lenght\")))]\n",
    "try:\n",
    "    list1 = [int(i) for i in list]\n",
    "except:\n",
    "    print(\"values can not converted\")"
   ]
  },
  {
   "cell_type": "markdown",
   "metadata": {},
   "source": [
    "### 07) WAP to create an udf divide(a,b) that handles ZeroDivisionError."
   ]
  },
  {
   "cell_type": "code",
   "execution_count": 79,
   "metadata": {},
   "outputs": [
    {
     "name": "stdin",
     "output_type": "stream",
     "text": [
      "Enter a number 1\n",
      "Enter a number 0\n"
     ]
    },
    {
     "name": "stdout",
     "output_type": "stream",
     "text": [
      "integer division or modulo by zero\n"
     ]
    }
   ],
   "source": [
    "def divide(a, b):\n",
    "    try:\n",
    "        return a//b\n",
    "    except ZeroDivisionError as err:\n",
    "        print(err)\n",
    "        \n",
    "divide(int(input(\"Enter a number\")), int(input(\"Enter a number\")))"
   ]
  },
  {
   "cell_type": "markdown",
   "metadata": {},
   "source": [
    "### 08) WAP that gets an age of a person form the user and raises ValueError with error message: \"Enter Valid Age\" :\n",
    "#### If the age is less than 18. \n",
    "#### otherwise print the age."
   ]
  },
  {
   "cell_type": "code",
   "execution_count": 111,
   "metadata": {},
   "outputs": [
    {
     "name": "stdin",
     "output_type": "stream",
     "text": [
      "Enter age 5\n"
     ]
    },
    {
     "name": "stdout",
     "output_type": "stream",
     "text": [
      "Age must be > than 18\n"
     ]
    }
   ],
   "source": [
    "try:\n",
    "    age = int(input(\"Enter age\"))\n",
    "    if(age>=18):\n",
    "        print(age)\n",
    "    else:\n",
    "        raise ValueError('Age must be greater than 18')\n",
    "except ValueError as err:\n",
    "    print(err)"
   ]
  },
  {
   "cell_type": "markdown",
   "metadata": {},
   "source": [
    "### 09) WAP to raise your custom Exception named InvalidUsernameError with the error message : \"Username must be between 5 and 15 characters long\":\n",
    "#### if the given name is having characters less than 5 or greater than 15.\n",
    "#### otherwise print the given username."
   ]
  },
  {
   "cell_type": "code",
   "execution_count": 119,
   "metadata": {},
   "outputs": [
    {
     "name": "stdin",
     "output_type": "stream",
     "text": [
      "Enter your name yash\n"
     ]
    },
    {
     "name": "stdout",
     "output_type": "stream",
     "text": [
      "Username must be between 5 and 15 characters long\n"
     ]
    }
   ],
   "source": [
    "class InvalidUsernameError(Exception):\n",
    "    def __init__(self, msg):\n",
    "        self.msg = msg\n",
    "try:\n",
    "    name = input(\"Enter your name\")\n",
    "    if(len(name)>5 and len(name)<15):\n",
    "        print(name)\n",
    "    else:\n",
    "        raise InvalidUsernameError(\"Username must be between 5 and 15 characters long\")\n",
    "except InvalidUsernameError as err:\n",
    "    print(err)"
   ]
  },
  {
   "cell_type": "markdown",
   "metadata": {},
   "source": [
    "### 10) WAP to raise your custom Exception named NegativeNumberError with the error message : \"Cannot calculate the square root of a negative number\" :\n",
    "#### if the given number is negative.\n",
    "#### otherwise print the square root of the given number."
   ]
  },
  {
   "cell_type": "code",
   "execution_count": 123,
   "metadata": {},
   "outputs": [
    {
     "name": "stdin",
     "output_type": "stream",
     "text": [
      "Enter number to find squre root -25\n"
     ]
    },
    {
     "name": "stdout",
     "output_type": "stream",
     "text": [
      "Cannot calculate the squre root of a negative number\n"
     ]
    }
   ],
   "source": [
    "import math\n",
    "class NegativeNumberError(Exception):\n",
    "    def __init__(self, msg):\n",
    "        self.msg = msg\n",
    "\n",
    "try:\n",
    "    num = int(input(\"Enter number to find squre root\"))\n",
    "    if(num>0):\n",
    "        print(math.sqrt(num))\n",
    "    else:\n",
    "        raise NegativeNumberError(\"Cannot calculate the squre root of a negative number\")\n",
    "except NegativeNumberError as err:\n",
    "    print(err)"
   ]
  },
  {
   "cell_type": "code",
   "execution_count": null,
   "metadata": {},
   "outputs": [],
   "source": []
  }
 ],
 "metadata": {
  "kernelspec": {
   "display_name": "Python 3 (ipykernel)",
   "language": "python",
   "name": "python3"
  },
  "language_info": {
   "codemirror_mode": {
    "name": "ipython",
    "version": 3
   },
   "file_extension": ".py",
   "mimetype": "text/x-python",
   "name": "python",
   "nbconvert_exporter": "python",
   "pygments_lexer": "ipython3",
   "version": "3.12.7"
  }
 },
 "nbformat": 4,
 "nbformat_minor": 4
}
