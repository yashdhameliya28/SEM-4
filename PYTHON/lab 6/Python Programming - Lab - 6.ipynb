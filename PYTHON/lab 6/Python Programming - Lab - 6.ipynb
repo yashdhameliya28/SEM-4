{
 "cells": [
  {
   "attachments": {},
   "cell_type": "markdown",
   "metadata": {},
   "source": [
    "<a href='https://www.darshan.ac.in/'> <img src='https://www.darshan.ac.in/Content/media/DU_Logo.svg' width=\"250\" height=\"300\"/></a>\n",
    "<pre>\n",
    "<center><b><h1>Python Programming - 2301CS404</b></center>\n",
    "<center><b><h1>Lab - 6</b></center>\n",
    "    <center><b><h1>Yash Dhameliya</b></center>    \n",
    "\n",
    "        <center><b><h1>23010101061</b></center>    \n",
    "\n",
    "            <center><b><h1>1-1-2025</b></center>    \n",
    "\n",
    "\n",
    "<pre>"
   ]
  },
  {
   "cell_type": "markdown",
   "metadata": {},
   "source": [
    "# Tuple"
   ]
  },
  {
   "cell_type": "markdown",
   "metadata": {},
   "source": [
    "### 01) WAP to find sum of tuple elements."
   ]
  },
  {
   "cell_type": "code",
   "execution_count": 2,
   "metadata": {},
   "outputs": [
    {
     "name": "stdout",
     "output_type": "stream",
     "text": [
      "45\n"
     ]
    }
   ],
   "source": [
    "t1 = (1,2,3,4,5,6,7,8,9)\n",
    "sum = 0\n",
    "for i in t1:\n",
    "    sum += i\n",
    "\n",
    "print(sum)"
   ]
  },
  {
   "cell_type": "markdown",
   "metadata": {},
   "source": [
    "### 02) WAP to find Maximum and Minimum K elements in a given tuple."
   ]
  },
  {
   "cell_type": "code",
   "execution_count": 62,
   "metadata": {},
   "outputs": [
    {
     "name": "stdout",
     "output_type": "stream",
     "text": [
      "Maximum element 43 and Minimun element  5\n"
     ]
    }
   ],
   "source": [
    "t1 = (10,21,32,43,5,6,7,8)\n",
    "list = [i for i in t1]\n",
    "# print(list)\n",
    "list.sort()\n",
    "print(\"Maximum element\", list[len(list)-1] ,\"and Minimun element \", list[0])"
   ]
  },
  {
   "cell_type": "markdown",
   "metadata": {},
   "source": [
    "### 03) WAP to find tuples which have all elements divisible by K from a list of tuples."
   ]
  },
  {
   "cell_type": "code",
   "execution_count": 68,
   "metadata": {},
   "outputs": [
    {
     "name": "stdout",
     "output_type": "stream",
     "text": [
      "1\n"
     ]
    }
   ],
   "source": [
    "tuple = 1,2,3,4,5,6\n",
    "\n",
    "k = int(input(\"Enter a number\"))\n",
    "\n",
    "for i in tuple:\n",
    "    if i%k==0:\n",
    "        print(i)"
   ]
  },
  {
   "cell_type": "markdown",
   "metadata": {},
   "source": [
    "### 04) WAP to create a list of tuples from given list having number and its cube in each tuple."
   ]
  },
  {
   "cell_type": "code",
   "execution_count": 50,
   "metadata": {},
   "outputs": [
    {
     "name": "stdin",
     "output_type": "stream",
     "text": [
      "Enter range of list 3\n"
     ]
    },
    {
     "name": "stdout",
     "output_type": "stream",
     "text": [
      "[(0, 0), (1, 1), (2, 4)]\n"
     ]
    }
   ],
   "source": [
    "list = [i for i in range(0 , int(input(\"Enter range of list\")))]\n",
    "listOfTuple = [(i , i**2) for i in list]\n",
    "print(listOfTuple)"
   ]
  },
  {
   "cell_type": "markdown",
   "metadata": {},
   "source": [
    "### 05) WAP to find tuples with all positive elements from the given list of tuples."
   ]
  },
  {
   "cell_type": "code",
   "execution_count": 82,
   "metadata": {},
   "outputs": [
    {
     "name": "stdout",
     "output_type": "stream",
     "text": [
      "(2, 4, 6)\n"
     ]
    }
   ],
   "source": [
    "listOfTuple = [(1, 12 , -1), (-2, -1, -22), (2, 4, 6)]\n",
    "for i in listOfTuple:\n",
    "    # if block true  --> for loop is break and else bolck not excute\n",
    "    # if block is false for all element --> else block excute\n",
    "    for j in i:\n",
    "        if j<0:\n",
    "            break\n",
    "    else:\n",
    "        print(i)"
   ]
  },
  {
   "cell_type": "markdown",
   "metadata": {},
   "source": [
    "### 06) WAP to add tuple to list and vice – versa."
   ]
  },
  {
   "cell_type": "code",
   "execution_count": 20,
   "metadata": {},
   "outputs": [
    {
     "name": "stdout",
     "output_type": "stream",
     "text": [
      "(1, 2, 3, 4, 11, 22, 33, 44)\n",
      "['hello', 'hiiiii', 28, (1, 2, 3, 4)]\n"
     ]
    }
   ],
   "source": [
    "t1 = (1,2,3,4)\n",
    "\n",
    "li = ['hello' , 'hiiiii' , 28]\n",
    "\n",
    "li.append(t1)\n",
    "\n",
    "l2 = [11,22,33,44]\n",
    "modified_tuple = t1 + tuple(l2)\n",
    "\n",
    "print(modified_tuple)\n",
    "print(li)\n",
    "\n"
   ]
  },
  {
   "cell_type": "markdown",
   "metadata": {},
   "source": [
    "### 07) WAP to remove tuples of length K."
   ]
  },
  {
   "cell_type": "code",
   "execution_count": 56,
   "metadata": {},
   "outputs": [
    {
     "name": "stdin",
     "output_type": "stream",
     "text": [
      "Enter a value for remove tuple from list :  3\n"
     ]
    },
    {
     "name": "stdout",
     "output_type": "stream",
     "text": [
      "[(1, -1)]\n"
     ]
    }
   ],
   "source": [
    "listOfTuple = [(1 , -1), (-2, -1, -22), (2, 4, 6)]\n",
    "k = int(input(\"Enter a value for remove tuple from list : \"))\n",
    "\n",
    "li = list( i for i in listOfTuple if len(i) != k)\n",
    "print(li)"
   ]
  },
  {
   "cell_type": "markdown",
   "metadata": {},
   "source": [
    "### 08) WAP to remove duplicates from tuple."
   ]
  },
  {
   "cell_type": "code",
   "execution_count": 52,
   "metadata": {},
   "outputs": [
    {
     "name": "stdout",
     "output_type": "stream",
     "text": [
      "(2, 4, 12)\n"
     ]
    }
   ],
   "source": [
    "t1 = (1,2,3,45,4,3,12,45,1)\n",
    "t2 = tuple((i for i in t1 if t1.count(i) == 1))\n",
    "\n",
    "print(t2)"
   ]
  },
  {
   "cell_type": "markdown",
   "metadata": {},
   "source": [
    "### 09) WAP to multiply adjacent elements of a tuple and print that resultant tuple."
   ]
  },
  {
   "cell_type": "code",
   "execution_count": null,
   "metadata": {},
   "outputs": [],
   "source": [
    "t1 = (1,2,3,45,4,12)\n",
    "ans = len(set(t1)) == len(t1) \n",
    "print(ans)"
   ]
  },
  {
   "cell_type": "markdown",
   "metadata": {},
   "source": [
    "### 10) WAP to test if the given tuple is distinct or not."
   ]
  },
  {
   "cell_type": "code",
   "execution_count": null,
   "metadata": {},
   "outputs": [],
   "source": [
    "t1 = (1,2,3,45,4,3,12)\n",
    "ans = len(set(t1)) == len(t1) \n",
    "print(ans)"
   ]
  }
 ],
 "metadata": {
  "kernelspec": {
   "display_name": "Python 3 (ipykernel)",
   "language": "python",
   "name": "python3"
  },
  "language_info": {
   "codemirror_mode": {
    "name": "ipython",
    "version": 3
   },
   "file_extension": ".py",
   "mimetype": "text/x-python",
   "name": "python",
   "nbconvert_exporter": "python",
   "pygments_lexer": "ipython3",
   "version": "3.12.7"
  }
 },
 "nbformat": 4,
 "nbformat_minor": 4
}
