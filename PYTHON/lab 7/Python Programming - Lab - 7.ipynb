{
 "cells": [
  {
   "cell_type": "markdown",
   "metadata": {},
   "source": [
    "<a href='https://www.darshan.ac.in/'> <img src='https://www.darshan.ac.in/Content/media/DU_Logo.svg' width=\"250\" height=\"300\"/></a>\n",
    "<pre>\n",
    "<center><b><h1>Python Programming - 2301CS404</b></center>\n",
    "<center><b><h1>Lab - 7</b></center>    \n",
    "    <center><b><h1>Yash Dhameliya</b></center>    \n",
    "\n",
    "        <center><b><h1>23010101061</b></center>    \n",
    "\n",
    "            <center><b><h1>15-1-2025</b></center>    \n",
    "\n",
    "<pre>"
   ]
  },
  {
   "cell_type": "markdown",
   "metadata": {},
   "source": [
    "# Set & Dictionary"
   ]
  },
  {
   "cell_type": "markdown",
   "metadata": {},
   "source": [
    "### 01) WAP to iterate over a set."
   ]
  },
  {
   "cell_type": "code",
   "execution_count": 6,
   "metadata": {},
   "outputs": [
    {
     "name": "stdin",
     "output_type": "stream",
     "text": [
      "Enter length of set 3\n",
      "Enter an element 1\n",
      "Enter an element 2\n",
      "Enter an element 3\n"
     ]
    },
    {
     "name": "stdout",
     "output_type": "stream",
     "text": [
      "2\n",
      "3\n",
      "1\n"
     ]
    }
   ],
   "source": [
    "length = int(input(\"Enter length of set\"))\n",
    "s1 = set()\n",
    "\n",
    "for i in range(0 , length):\n",
    "    element = input(\"Enter an element\")\n",
    "    s1.add(element)\n",
    "\n",
    "for i in s1:\n",
    "    print(i)"
   ]
  },
  {
   "cell_type": "markdown",
   "metadata": {},
   "source": [
    "### 02) WAP to convert set into list, string and tuple."
   ]
  },
  {
   "cell_type": "code",
   "execution_count": 16,
   "metadata": {},
   "outputs": [
    {
     "name": "stdin",
     "output_type": "stream",
     "text": [
      "Enter length of set 3\n",
      "Enter an element 1\n",
      "Enter an element 2\n",
      "Enter an element 3\n"
     ]
    },
    {
     "name": "stdout",
     "output_type": "stream",
     "text": [
      "['2', '3', '1']\n",
      "231\n",
      "('2', '3', '1')\n"
     ]
    }
   ],
   "source": [
    "length = int(input(\"Enter length of set\"))\n",
    "\n",
    "s1 = { i for i in range(0 , length)}\n",
    "\n",
    "set_to_list = list(s1)\n",
    "print(set_to_list)\n",
    "\n",
    "str = ''\n",
    "for i in s1:\n",
    "    str += i\n",
    "print(str)\n",
    "\n",
    "set_to_tuple = tuple(s1)\n",
    "print(set_to_tuple)"
   ]
  },
  {
   "cell_type": "markdown",
   "metadata": {},
   "source": [
    "### 03) WAP to find Maximum and Minimum from a set."
   ]
  },
  {
   "cell_type": "code",
   "execution_count": 99,
   "metadata": {},
   "outputs": [
    {
     "name": "stdin",
     "output_type": "stream",
     "text": [
      "Enter length of set 3\n",
      "Enter an element 1\n",
      "Enter an element 5\n",
      "Enter an element 2\n"
     ]
    },
    {
     "name": "stdout",
     "output_type": "stream",
     "text": [
      "Minimum number 1\n",
      "Maximum number 5\n"
     ]
    }
   ],
   "source": [
    "length = int(input(\"Enter length of set\"))\n",
    "\n",
    "s1 = {int(input(\"Enter an element\")) for i in range(0 , length)}\n",
    "\n",
    "li = [i for i in s1]\n",
    "li.sort()\n",
    "print(\"Minimum number\",li[0])\n",
    "print(\"Maximum number\",li[length - 1])"
   ]
  },
  {
   "cell_type": "markdown",
   "metadata": {},
   "source": [
    "### 04) WAP to perform union of two sets."
   ]
  },
  {
   "cell_type": "code",
   "execution_count": 88,
   "metadata": {},
   "outputs": [
    {
     "name": "stdin",
     "output_type": "stream",
     "text": [
      "Enter length of first set 3\n",
      "Enter a element 1\n",
      "Enter a element 2\n",
      "Enter a element 3\n",
      "Enter length of second set 3\n",
      "Enter second set element 1\n",
      "Enter second set element 2\n",
      "Enter second set element 3\n"
     ]
    },
    {
     "name": "stdout",
     "output_type": "stream",
     "text": [
      "union of two set :  {'2', '1', '3'}\n"
     ]
    }
   ],
   "source": [
    "length1 = int(input(\"Enter length of first set\"))\n",
    "s1 = {input(\"Enter a element\") for i in range(0 , length1)}\n",
    "\n",
    "length2 = int(input(\"Enter length of second set\"))\n",
    "s2 = {input(\"Enter a element\") for i in range(0 , length2)}\n",
    "\n",
    "print(\"union of two set : \", s1.union(s2))"
   ]
  },
  {
   "cell_type": "markdown",
   "metadata": {},
   "source": [
    "### 05) WAP to check if two lists have at-least one element common."
   ]
  },
  {
   "cell_type": "code",
   "execution_count": 13,
   "metadata": {},
   "outputs": [
    {
     "name": "stdin",
     "output_type": "stream",
     "text": [
      "Enter length of first list 2\n",
      "Enter a element 1\n",
      "Enter a element 3\n",
      "Enter length of second list 3\n",
      "Enter a element 1\n",
      "Enter a element 2\n",
      "Enter a element 3\n"
     ]
    },
    {
     "name": "stdout",
     "output_type": "stream",
     "text": [
      "{'1', '3'}\n"
     ]
    }
   ],
   "source": [
    "length1 = int(input(\"Enter length of first list\"))\n",
    "s1 = set([input(\"Enter a element\") for i in range(0 , length1)])\n",
    "\n",
    "length2 = int(input(\"Enter length of second list\"))\n",
    "s2 = set([input(\"Enter a element\") for i in range(0 , length2)])\n",
    "\n",
    "s3 = s1 & s2\n",
    "print(s3)"
   ]
  },
  {
   "cell_type": "markdown",
   "metadata": {},
   "source": [
    "### 06) WAP to remove duplicates from list."
   ]
  },
  {
   "cell_type": "code",
   "execution_count": 15,
   "metadata": {},
   "outputs": [
    {
     "name": "stdin",
     "output_type": "stream",
     "text": [
      "Enter length of first list 5\n",
      "Enter a element 11\n",
      "Enter a element 11\n",
      "Enter a element 2\n",
      "Enter a element 33\n",
      "Enter a element 33\n"
     ]
    },
    {
     "name": "stdout",
     "output_type": "stream",
     "text": [
      "{33, 2, 11}\n"
     ]
    }
   ],
   "source": [
    "length1 = int(input(\"Enter length of first list\"))\n",
    "s1 = set([int(input(\"Enter a element\")) for i in range(0 , length1)])\n",
    "\n",
    "print(s1)"
   ]
  },
  {
   "cell_type": "markdown",
   "metadata": {},
   "source": [
    "### 07) WAP to find unique words in the given string."
   ]
  },
  {
   "cell_type": "code",
   "execution_count": 23,
   "metadata": {},
   "outputs": [
    {
     "name": "stdin",
     "output_type": "stream",
     "text": [
      "Enter a string yash dhameliya\n"
     ]
    },
    {
     "name": "stdout",
     "output_type": "stream",
     "text": [
      "{'h', 'd', 'i', 'e', 'm', 'y', 'l', 'a'}\n"
     ]
    }
   ],
   "source": [
    "str = input(\"Enter a string\").split()\n",
    "\n",
    "for word in str:\n",
    "    s1 = {i for i in word}\n",
    "\n",
    "print(s1)"
   ]
  },
  {
   "cell_type": "markdown",
   "metadata": {},
   "source": [
    "### 08) WAP to remove common elements of set A & B from set A."
   ]
  },
  {
   "cell_type": "code",
   "execution_count": 27,
   "metadata": {},
   "outputs": [
    {
     "name": "stdin",
     "output_type": "stream",
     "text": [
      "Enter length of first set 5\n",
      "Enter a element 1\n",
      "Enter a element 2\n",
      "Enter a element 3\n",
      "Enter a element 6\n",
      "Enter a element 5\n",
      "Enter length of second set 3\n",
      "Enter a element 4\n",
      "Enter a element 5\n",
      "Enter a element 6\n"
     ]
    },
    {
     "name": "stdout",
     "output_type": "stream",
     "text": [
      "{'2', '1', '4', '3'}\n"
     ]
    }
   ],
   "source": [
    "length1 = int(input(\"Enter length of first set\"))\n",
    "a = set([input(\"Enter a element\") for i in range(0 , length1)])\n",
    "\n",
    "length2 = int(input(\"Enter length of second set\"))\n",
    "b = set([input(\"Enter a element\") for i in range(0 , length2)])\n",
    "\n",
    "a.symmetric_difference_update(b)\n",
    "print(a)"
   ]
  },
  {
   "cell_type": "markdown",
   "metadata": {},
   "source": [
    "### 09) WAP to check whether two given strings are anagram or not using set."
   ]
  },
  {
   "cell_type": "code",
   "execution_count": 36,
   "metadata": {},
   "outputs": [
    {
     "name": "stdin",
     "output_type": "stream",
     "text": [
      "Enter first string yash\n",
      "Enter second string qwe\n"
     ]
    },
    {
     "name": "stdout",
     "output_type": "stream",
     "text": [
      "given string is not anagram\n"
     ]
    }
   ],
   "source": [
    "str1 = input(\"Enter first string\")\n",
    "str2 = input(\"Enter second string\")\n",
    "\n",
    "for i in str1:\n",
    "    if(i not in str2):\n",
    "        print(\"given string is not anagram\")\n",
    "        break\n",
    "else:\n",
    "    print(\"given string is anagram\")\n",
    "    "
   ]
  },
  {
   "cell_type": "markdown",
   "metadata": {},
   "source": [
    "### 10) WAP to find common elements in three lists using set."
   ]
  },
  {
   "cell_type": "code",
   "execution_count": 44,
   "metadata": {},
   "outputs": [
    {
     "name": "stdin",
     "output_type": "stream",
     "text": [
      "Enter first list lenght 2\n",
      "Enter element of first list 1\n",
      "Enter element of first list 2\n",
      "Enter second list lenght 2\n",
      "Enter element of second list 1\n",
      "Enter element of second list 3\n",
      "Enter third list lenght 2\n",
      "Enter element of third list 1\n",
      "Enter element of third list 4\n"
     ]
    },
    {
     "name": "stdout",
     "output_type": "stream",
     "text": [
      "{1}\n"
     ]
    }
   ],
   "source": [
    "s1 = set([int(input(\"Enter element of first list\")) for i in range(0, int(input(\"Enter first list lenght\")))])\n",
    "s2 = set([int(input(\"Enter element of second list\")) for i in range(0, int(input(\"Enter second list lenght\")))])\n",
    "s3 = set([int(input(\"Enter element of third list\")) for i in range(0, int(input(\"Enter third list lenght\")))])\n",
    "\n",
    "s4 = s1 & s2 & s3\n",
    "print(s4)"
   ]
  },
  {
   "cell_type": "markdown",
   "metadata": {},
   "source": [
    "### 11) WAP to count number of vowels in given string using set."
   ]
  },
  {
   "cell_type": "code",
   "execution_count": 54,
   "metadata": {},
   "outputs": [
    {
     "name": "stdin",
     "output_type": "stream",
     "text": [
      "Enter string yash\n"
     ]
    },
    {
     "name": "stdout",
     "output_type": "stream",
     "text": [
      "no of vowels 1\n"
     ]
    }
   ],
   "source": [
    "str1 = input(\"Enter string\")\n",
    "set_of_vowels = {i for i in str1 if (i.lower()=='a' or i.lower()=='e' or i.lower()=='i' or i.lower()=='o' or i.lower()=='u')}\n",
    "no_of_vowels = len(set_of_vowels)\n",
    "print(\"no of vowels\", no_of_vowels)"
   ]
  },
  {
   "cell_type": "markdown",
   "metadata": {},
   "source": [
    "### 12) WAP to check if a given string is binary string or not."
   ]
  },
  {
   "cell_type": "code",
   "execution_count": 60,
   "metadata": {},
   "outputs": [
    {
     "name": "stdin",
     "output_type": "stream",
     "text": [
      "Enter string 0101010\n"
     ]
    },
    {
     "name": "stdout",
     "output_type": "stream",
     "text": [
      "given string binary string\n"
     ]
    }
   ],
   "source": [
    "str = input(\"Enter string\")\n",
    "for i in str:\n",
    "    if(not(i.isnumeric())):\n",
    "        print(\"given string not binary string\")\n",
    "        break\n",
    "else:\n",
    "    print(\"given string binary string\")"
   ]
  },
  {
   "cell_type": "markdown",
   "metadata": {},
   "source": [
    "### 13) WAP to sort dictionary by key or value."
   ]
  },
  {
   "cell_type": "code",
   "execution_count": 79,
   "metadata": {},
   "outputs": [
    {
     "name": "stdin",
     "output_type": "stream",
     "text": [
      "Enter length of dic 2\n",
      "Enter an element of first list 5\n",
      "Enter an element of first list 1\n",
      "Enter an element of second list 11\n",
      "Enter an element of second list 22\n"
     ]
    },
    {
     "name": "stdout",
     "output_type": "stream",
     "text": [
      "{1: 11, 5: 22}\n"
     ]
    }
   ],
   "source": [
    "length = int(input(\"Enter length of dic\"))\n",
    "key = list([int(input(\"Enter an element of first list\")) for i in range(0, length)])\n",
    "value = list([int(input(\"Enter an element of second list\")) for i in range(0, length)])\n",
    "\n",
    "key.sort()\n",
    "\n",
    "dic = {i:j for i,j in zip(key, value)}\n",
    "print(dic)"
   ]
  },
  {
   "cell_type": "markdown",
   "metadata": {},
   "source": [
    "### 14) WAP to find the sum of all items (values) in a dictionary given by user. (Assume: values are numeric)"
   ]
  },
  {
   "cell_type": "code",
   "execution_count": 81,
   "metadata": {},
   "outputs": [
    {
     "name": "stdin",
     "output_type": "stream",
     "text": [
      "Enter length of list 3\n",
      "Enter an element of second list 1\n",
      "Enter an element of second list 2\n",
      "Enter an element of second list 3\n"
     ]
    },
    {
     "name": "stdout",
     "output_type": "stream",
     "text": [
      "6\n"
     ]
    }
   ],
   "source": [
    "value = list([int(input(\"Enter an element of list\")) for i in range(0, int(input(\"Enter length of list\")))])\n",
    "dic = {i:j for i,j in enumerate(value)}\n",
    "\n",
    "sum = 0\n",
    "for i in dic.values():\n",
    "    sum += i\n",
    "\n",
    "print(sum)"
   ]
  },
  {
   "cell_type": "markdown",
   "metadata": {},
   "source": [
    "### 15) WAP to handle missing keys in dictionaries.\n",
    "#### Example : Given, dict1 = {'a': 5, 'c': 8, 'e': 2} \n",
    "#### if you look for key = 'd', the message given should be 'Key Not Found', otherwise print the value of 'd' in dict1."
   ]
  },
  {
   "cell_type": "code",
   "execution_count": 87,
   "metadata": {},
   "outputs": [
    {
     "name": "stdin",
     "output_type": "stream",
     "text": [
      "Enter length of list 3\n",
      "Enter an element of list 1\n",
      "Enter an element of list 2\n",
      "Enter an element of list 3\n",
      "Enter a key 43\n"
     ]
    },
    {
     "name": "stdout",
     "output_type": "stream",
     "text": [
      "Key not found\n"
     ]
    }
   ],
   "source": [
    "value = list([int(input(\"Enter an element of list\")) for i in range(0, int(input(\"Enter length of list\")))])\n",
    "dic = {i:j for i,j in enumerate(value)}\n",
    "key = input(\"Enter a key\")\n",
    "for i in dic.keys():\n",
    "    if i != key:\n",
    "        print(\"Key not found\")\n",
    "        break\n",
    "else:\n",
    "    print(\"key is found and value is\", dic[i])"
   ]
  }
 ],
 "metadata": {
  "kernelspec": {
   "display_name": "Python 3 (ipykernel)",
   "language": "python",
   "name": "python3"
  },
  "language_info": {
   "codemirror_mode": {
    "name": "ipython",
    "version": 3
   },
   "file_extension": ".py",
   "mimetype": "text/x-python",
   "name": "python",
   "nbconvert_exporter": "python",
   "pygments_lexer": "ipython3",
   "version": "3.12.7"
  }
 },
 "nbformat": 4,
 "nbformat_minor": 4
}
