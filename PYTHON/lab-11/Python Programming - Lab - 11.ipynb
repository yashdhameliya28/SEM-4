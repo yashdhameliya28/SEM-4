{
 "cells": [
  {
   "attachments": {},
   "cell_type": "markdown",
   "metadata": {},
   "source": [
    "<a href='https://www.darshan.ac.in/'> <img src='https://www.darshan.ac.in/Content/media/DU_Logo.svg' width=\"250\" height=\"300\"/></a>\n",
    "<pre>\n",
    "<center><b><h1>Python Programming - 2301CS404</b></center>\n",
    "<center><b><h1>Lab - 11</b></center>\n",
    "    <center><b><h1>Yash Dhameliya</b></center>\n",
    "        <center><b><h1>23010101061</b></center>\n",
    "            <center><b><h1>12-02-2025</b></center>\n",
    "<pre>"
   ]
  },
  {
   "cell_type": "markdown",
   "metadata": {},
   "source": [
    "# Modules"
   ]
  },
  {
   "cell_type": "markdown",
   "metadata": {},
   "source": [
    "### 01) WAP to create Calculator module which defines functions like add, sub,mul and div. \n",
    "### Create another .py file that uses the functions available in Calculator module."
   ]
  },
  {
   "cell_type": "code",
   "execution_count": null,
   "metadata": {},
   "outputs": [],
   "source": [
    "import calculator\n",
    "\n",
    "a = float(input(\"Enter first number: \"))\n",
    "b = float(input(\"Enter second number: \"))\n",
    "\n",
    "print(f\"Addition: {calculator.add(a, b)}\")\n",
    "print(f\"Subtraction: {calculator.sub(a, b)}\")\n",
    "print(f\"Multiplication: {calculator.mul(a, b)}\")\n",
    "print(f\"Division: {calculator.div(a, b)}\")"
   ]
  },
  {
   "cell_type": "markdown",
   "metadata": {},
   "source": [
    "### 02) WAP to pick a random character from a given String."
   ]
  },
  {
   "cell_type": "code",
   "execution_count": null,
   "metadata": {},
   "outputs": [],
   "source": [
    "import random\n",
    "\n",
    "string = input(\"Enter a string: \")\n",
    "\n",
    "random_char = random.choice(string)\n",
    "\n",
    "print(f\"Randomly selected character: {random_char}\")\n"
   ]
  },
  {
   "cell_type": "markdown",
   "metadata": {},
   "source": [
    "### 03) WAP to pick a random element from a given list."
   ]
  },
  {
   "cell_type": "code",
   "execution_count": null,
   "metadata": {},
   "outputs": [],
   "source": [
    "import random\n",
    "\n",
    "my_list = [10, 20, 30, 40, 50, \"apple\", \"banana\", \"cherry\"]\n",
    "\n",
    "random_element = random.choice(my_list)\n",
    "\n",
    "print(f\"Randomly selected element: {random_element}\")\n"
   ]
  },
  {
   "cell_type": "markdown",
   "metadata": {},
   "source": [
    "### 04) WAP to roll a dice in such a way that every time you get the same number."
   ]
  },
  {
   "cell_type": "code",
   "execution_count": null,
   "metadata": {},
   "outputs": [],
   "source": [
    "import random\n",
    "\n",
    "random.seed(42)\n",
    "\n",
    "def roll_dice():\n",
    "    return random.choice([6])\n",
    "\n",
    "for _ in range(5):\n",
    "    print(f\"Rolled: {roll_dice()}\")\n",
    "\n"
   ]
  },
  {
   "cell_type": "markdown",
   "metadata": {},
   "source": [
    "### 05) WAP to generate 3 random integers between 100 and 999 which is divisible by 5."
   ]
  },
  {
   "cell_type": "code",
   "execution_count": null,
   "metadata": {},
   "outputs": [],
   "source": [
    "import random\n",
    "\n",
    "def generate_random_numbers():\n",
    "    random_numbers = []\n",
    "    while len(random_numbers) < 3:\n",
    "        num = random.randint(100, 999)\n",
    "        if num % 5 == 0:\n",
    "            random_numbers.append(num)\n",
    "    return random_numbers\n",
    "\n",
    "numbers = generate_random_numbers()\n",
    "print(\"Random numbers divisible by 5:\", numbers)\n"
   ]
  },
  {
   "cell_type": "markdown",
   "metadata": {},
   "source": [
    "### 06) WAP to generate 100 random lottery tickets and pick two lucky tickets from it and announce them as Winner and Runner up respectively."
   ]
  },
  {
   "cell_type": "code",
   "execution_count": null,
   "metadata": {},
   "outputs": [],
   "source": [
    "import random\n",
    "\n",
    "lottery_tickets = random.sample(range(1000, 9999), 100)\n",
    "\n",
    "winner, runner_up = random.sample(lottery_tickets, 2)\n",
    "\n",
    "print(\"Lottery Draw Results \")\n",
    "print(f\" Winner Ticket: {winner}\")\n",
    "print(f\" Runner-up Ticket: {runner_up}\")\n"
   ]
  },
  {
   "cell_type": "markdown",
   "metadata": {},
   "source": [
    "### 07) WAP to print current date and time in Python."
   ]
  },
  {
   "cell_type": "code",
   "execution_count": null,
   "metadata": {},
   "outputs": [],
   "source": [
    "from datetime import datetime\n",
    "\n",
    "now = datetime.now()\n",
    "\n",
    "print(\"Current Date and Time:\", now.strftime(\"%Y-%m-%d %H:%M:%S\"))\n"
   ]
  },
  {
   "cell_type": "markdown",
   "metadata": {},
   "source": [
    "### 08) Subtract a week (7 days) from a given date in Python."
   ]
  },
  {
   "cell_type": "code",
   "execution_count": null,
   "metadata": {},
   "outputs": [],
   "source": [
    "from datetime import datetime, timedelta\n",
    "\n",
    "given_date = datetime(2025, 2, 11)\n",
    "\n",
    "new_date = given_date - timedelta(days=7)\n",
    "\n",
    "print(\"Given Date:\", given_date.strftime(\"%Y-%m-%d\"))\n",
    "print(\"Date After Subtracting a Week:\", new_date.strftime(\"%Y-%m-%d\"))\n"
   ]
  },
  {
   "cell_type": "markdown",
   "metadata": {},
   "source": [
    "### 09) WAP to Calculate number of days between two given dates."
   ]
  },
  {
   "cell_type": "code",
   "execution_count": null,
   "metadata": {},
   "outputs": [],
   "source": [
    "from datetime import datetime\n",
    "\n",
    "date1 = input(\"Enter the first date (YYYY-MM-DD): \")\n",
    "date2 = input(\"Enter the second date (YYYY-MM-DD): \")\n",
    "\n",
    "date1 = datetime.strptime(date1, \"%Y-%m-%d\")\n",
    "date2 = datetime.strptime(date2, \"%Y-%m-%d\")\n",
    "\n",
    "difference = abs((date2 - date1).days)\n",
    "\n",
    "print(f\"Number of days between the two dates: {difference} days\")\n"
   ]
  },
  {
   "cell_type": "markdown",
   "metadata": {},
   "source": [
    "### 10) WAP to Find the day of the week of a given date.(i.e. wether it is sunday/monday/tuesday/etc.)"
   ]
  },
  {
   "cell_type": "code",
   "execution_count": null,
   "metadata": {},
   "outputs": [],
   "source": [
    "from datetime import datetime\n",
    "\n",
    "date_input = input(\"Enter a date (YYYY-MM-DD): \")\n",
    "\n",
    "date_obj = datetime.strptime(date_input, \"%Y-%m-%d\")\n",
    "\n",
    "day_of_week = date_obj.strftime(\"%A\")\n",
    "\n",
    "print(f\"The day of the week for {date_input} is: {day_of_week}\")\n"
   ]
  },
  {
   "cell_type": "markdown",
   "metadata": {},
   "source": [
    "### 11) WAP to demonstrate the use of date time module."
   ]
  },
  {
   "cell_type": "code",
   "execution_count": null,
   "metadata": {},
   "outputs": [],
   "source": [
    "from datetime import datetime, timedelta\n",
    "\n",
    "current_datetime = datetime.now()\n",
    "print(\"Current Date and Time:\", current_datetime.strftime(\"%Y-%m-%d %H:%M:%S\"))\n",
    "\n",
    "current_date = current_datetime.date()\n",
    "print(\"Current Date:\", current_date)\n",
    "\n",
    "day_of_week = current_datetime.strftime(\"%A\")\n",
    "print(\"Today is:\", day_of_week)\n",
    "\n",
    "future_date = current_datetime + timedelta(days=7)\n",
    "print(\"Date after 7 days:\", future_date.strftime(\"%Y-%m-%d\"))\n",
    "\n",
    "past_date = current_datetime - timedelta(days=7)\n",
    "print(\"Date 7 days ago:\", past_date.strftime(\"%Y-%m-%d\"))\n",
    "\n",
    "date1 = datetime(2025, 2, 11)\n",
    "date2 = datetime(2025, 3, 1)\n",
    "days_difference = abs((date2 - date1).days)\n",
    "print(f\"Days between {date1.date()} and {date2.date()}:\", days_difference)\n"
   ]
  },
  {
   "cell_type": "markdown",
   "metadata": {},
   "source": [
    "### 12) WAP to demonstrate the use of the math module."
   ]
  },
  {
   "cell_type": "code",
   "execution_count": null,
   "metadata": {},
   "outputs": [],
   "source": [
    "import math\n",
    "\n",
    "num = 16\n",
    "print(f\"Square root of {num}:\", math.sqrt(num))\n",
    "\n",
    "base, exponent = 2, 5\n",
    "print(f\"{base} raised to the power {exponent}:\", math.pow(base, exponent))\n",
    "\n",
    "angle = math.radians(30) \n",
    "print(\"Sin(30 degrees):\", math.sin(angle))\n",
    "print(\"Cos(30 degrees):\", math.cos(angle))\n",
    "print(\"Tan(30 degrees):\", math.tan(angle))\n",
    "\n",
    "value = 100\n",
    "print(f\"Natural Log (ln) of {value}:\", math.log(value))\n",
    "print(f\"Log base 10 of {value}:\", math.log10(value))\n",
    "\n",
    "num = 5\n",
    "print(f\"Factorial of {num}:\", math.factorial(num))\n",
    "\n",
    "print(\"Value of Pi:\", math.pi)\n",
    "print(\"Value of Euler's number (e):\", math.e)\n",
    "\n",
    "a, b = 24, 36\n",
    "print(f\"GCD of {a} and {b}:\", math.gcd(a, b))\n",
    "\n",
    "value = 7.8\n",
    "print(f\"Floor of {value}:\", math.floor(value))\n",
    "print(f\"Ceil of {value}:\", math.ceil(value))\n"
   ]
  }
 ],
 "metadata": {
  "kernelspec": {
   "display_name": "Python 3 (ipykernel)",
   "language": "python",
   "name": "python3"
  },
  "language_info": {
   "codemirror_mode": {
    "name": "ipython",
    "version": 3
   },
   "file_extension": ".py",
   "mimetype": "text/x-python",
   "name": "python",
   "nbconvert_exporter": "python",
   "pygments_lexer": "ipython3",
   "version": "3.12.7"
  }
 },
 "nbformat": 4,
 "nbformat_minor": 4
}
