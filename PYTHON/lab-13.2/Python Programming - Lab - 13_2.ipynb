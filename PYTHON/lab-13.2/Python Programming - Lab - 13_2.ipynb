{
 "cells": [
  {
   "cell_type": "markdown",
   "metadata": {},
   "source": [
    "<a href='https://www.darshan.ac.in/'> <img src='https://www.darshan.ac.in/Content/media/DU_Logo.svg' width=\"250\" height=\"300\"/></a>\n",
    "<pre>\n",
    "<center><b><h1>Python Programming - 2301CS404</b></center>\n",
    "<center><b><h1>Lab - 13</b></center>\n",
    "    <center><b><h1>Yash Dhameliya</b></center>\n",
    "        <center><b><h1>23010101061</b></center>\n",
    "            <center><b><h1>11-03-2025</b></center>\n",
    "<pre>"
   ]
  },
  {
   "cell_type": "markdown",
   "metadata": {},
   "source": [
    "## Continued.."
   ]
  },
  {
   "cell_type": "markdown",
   "metadata": {},
   "source": [
    "### 10) Calculate area of a ractangle using object as an argument to a method."
   ]
  },
  {
   "cell_type": "code",
   "execution_count": null,
   "metadata": {},
   "outputs": [],
   "source": [
    "class Rectangle:\n",
    "    def _init_(self,height,width):\n",
    "        self.height= height\n",
    "        self.width= width\n",
    "\n",
    "def area(obj):\n",
    "    return obj.width * obj.height\n",
    "\n",
    "rct1 = Rectangle(10,20)\n",
    "print(area(rct1))"
   ]
  },
  {
   "cell_type": "markdown",
   "metadata": {},
   "source": [
    "### 11) Calculate the area of a square. \n",
    "### Include a Constructor, a method to calculate area named area() and a method named output() that prints the output and is invoked by area()."
   ]
  },
  {
   "cell_type": "code",
   "execution_count": null,
   "metadata": {},
   "outputs": [],
   "source": [
    "class Square:\n",
    "    def __init__(self,height):\n",
    "        self.height= height\n",
    "    def area(self):\n",
    "        ans = self.height**2  \n",
    "        self.output(ans)\n",
    "    @staticmethod  \n",
    "    def output(ans):\n",
    "        print(ans)\n",
    "s1=Square(10)\n",
    "s1.area()       "
   ]
  },
  {
   "cell_type": "markdown",
   "metadata": {},
   "source": [
    "### 12) Calculate the area of a rectangle. \n",
    "### Include a Constructor, a method to calculate area named area() and a method named output() that prints the output and is invoked by area().\n",
    "### Also define a class method that compares the two sides of reactangle. An object is instantiated only if the two sides are different; otherwise a message should be displayed : THIS IS SQUARE."
   ]
  },
  {
   "cell_type": "code",
   "execution_count": null,
   "metadata": {},
   "outputs": [],
   "source": [
    "class Rect:\n",
    "    def __init__(self,width,height):\n",
    "        self.height=height\n",
    "        self.width=width\n",
    "\n",
    "    @classmethod\n",
    "    def checkobj(cls,height,width):\n",
    "        return height != width\n",
    "\n",
    "    def area(self):\n",
    "        ans = self.height**2  \n",
    "        self.output(ans)\n",
    "    @staticmethod  \n",
    "    def output(ans):\n",
    "        print(ans)\n",
    "    \n",
    "if(Rect.checkobj(12,11)):\n",
    "    rect1 = Rect(12,11)\n",
    "    rect1.area()\n",
    "else:\n",
    "    print('This is Square')"
   ]
  },
  {
   "cell_type": "markdown",
   "metadata": {},
   "source": [
    "### 13) Define a class Square having a private attribute \"side\". \n",
    "### Implement get_side and set_side methods to accees the private attribute from outside of the class."
   ]
  },
  {
   "cell_type": "code",
   "execution_count": null,
   "metadata": {},
   "outputs": [],
   "source": [
    "class Square:\n",
    "    def get_side(self):\n",
    "        return self.__side\n",
    "\n",
    "    def set_side(self,side):\n",
    "        self.__side = side\n",
    "S1 = Square()\n",
    "S1.set_side(20)\n",
    "print(S1.get_side())"
   ]
  },
  {
   "cell_type": "markdown",
   "metadata": {},
   "source": [
    "### 14) Create a class Profit that has a method named getProfit that accepts profit from the user.\n",
    "### Create a class Loss that has a method named getLoss that accepts loss from the user.\n",
    "### Create a class BalanceSheet that inherits from both classes Profit and Loss and calculates the balanace. It has two methods getBalance() and printBalance()."
   ]
  },
  {
   "cell_type": "code",
   "execution_count": null,
   "metadata": {},
   "outputs": [],
   "source": [
    "class Profit:\n",
    "    def getProfit(self,profit):\n",
    "        self.profit = profit\n",
    "class Loss:\n",
    "    def getLoss(self,loss):\n",
    "        self.loss = loss\n",
    "\n",
    "class Balancesheet(Profit,Loss):\n",
    "        \n",
    "    def getBalance(self):\n",
    "        return  self.profit-self.loss\n",
    "    \n",
    "    def printBalance(self):\n",
    "        print(self.getBalance())\n",
    "\n",
    "b1 = Balancesheet()\n",
    "b1.getProfit(2000)\n",
    "b1.getLoss(1000)\n",
    "balance =  b1.getBalance()\n",
    "b1.printBalance()"
   ]
  },
  {
   "attachments": {},
   "cell_type": "markdown",
   "metadata": {},
   "source": [
    "### 15) WAP to demonstrate all types of inheritance."
   ]
  },
  {
   "cell_type": "code",
   "execution_count": 3,
   "metadata": {},
   "outputs": [
    {
     "name": "stdout",
     "output_type": "stream",
     "text": [
      "From Class A\n",
      "From Class B\n"
     ]
    }
   ],
   "source": [
    "class A:\n",
    "    def displayA(self):\n",
    "        print(\"From Class A\")\n",
    "class B(A):\n",
    "    def displayB(self):\n",
    "        print(\"From Class B\")\n",
    "obj = B()\n",
    "obj.displayA()\n",
    "obj.displayB() \n",
    "\n"
   ]
  },
  {
   "cell_type": "code",
   "execution_count": 5,
   "metadata": {},
   "outputs": [
    {
     "name": "stdout",
     "output_type": "stream",
     "text": [
      "From Class A\n",
      "From Class B\n",
      "From class C\n"
     ]
    }
   ],
   "source": [
    "class A:\n",
    "    def displayA(self):\n",
    "        print(\"From Class A\")\n",
    "class B(A):\n",
    "    def displayB(self):\n",
    "        print(\"From Class B\")\n",
    "class C(B):\n",
    "    def displayC(self):\n",
    "        print(\"From class C\")        \n",
    "obj = C()\n",
    "obj.displayA()\n",
    "obj.displayB() \n",
    "obj.displayC() "
   ]
  },
  {
   "cell_type": "code",
   "execution_count": 7,
   "metadata": {},
   "outputs": [
    {
     "name": "stdout",
     "output_type": "stream",
     "text": [
      "From Class A\n",
      "From Class B\n",
      "From class C\n"
     ]
    }
   ],
   "source": [
    "class A:\n",
    "    def disA(self):\n",
    "        print(\"From Class A\")\n",
    "class B(A):\n",
    "    def disB(self):\n",
    "        print(\"From Class B\")\n",
    "class C(B,A):\n",
    "    def disC(self):\n",
    "        print(\"From class C\")        \n",
    "obj = C()\n",
    "obj.disA()\n",
    "obj.disB() \n",
    "obj.disC() "
   ]
  },
  {
   "cell_type": "code",
   "execution_count": null,
   "metadata": {},
   "outputs": [],
   "source": [
    "class A:\n",
    "    def disA(self):\n",
    "        print(\"From Class A\")\n",
    "class B(A):\n",
    "    def disB(self):\n",
    "        print(\"From Class B\")\n",
    "class C(A):\n",
    "    def disC(self):\n",
    "        print(\"From class C\")        \n",
    "obj1 = C()\n",
    "obj2 = B()\n",
    "obj1.disA()\n",
    "obj1.disC() \n",
    "obj2.disA() \n",
    "obj2.disB() "
   ]
  },
  {
   "cell_type": "markdown",
   "metadata": {},
   "source": [
    "### 16) Create a Person class with a constructor that takes two arguments name and age. \n",
    "### Create a child class Employee that inherits from Person and adds a new attribute salary. \n",
    "### Override the __init__ method in Employee to call the parent class's __init__ method using the super() and then initialize the salary attribute."
   ]
  },
  {
   "cell_type": "code",
   "execution_count": 12,
   "metadata": {},
   "outputs": [
    {
     "name": "stdout",
     "output_type": "stream",
     "text": [
      "Yash 15 25000\n"
     ]
    }
   ],
   "source": [
    "class Person:\n",
    "    def __init__(self,name,age):\n",
    "        self.name = name\n",
    "        self.age = age\n",
    "class Emp(Person):\n",
    "    def __init__(self,name,age,salary):\n",
    "        super().__init__(name,age)\n",
    "        self.salary = salary\n",
    "    def printEmp(self):\n",
    "        print(self.name,self.age,self.salary)\n",
    "E1 = Emp('Yash',15,25000)\n",
    "E1.printEmp()\n"
   ]
  },
  {
   "cell_type": "code",
   "execution_count": null,
   "metadata": {},
   "outputs": [],
   "source": []
  },
  {
   "cell_type": "code",
   "execution_count": null,
   "metadata": {},
   "outputs": [],
   "source": []
  },
  {
   "cell_type": "markdown",
   "metadata": {},
   "source": [
    "### 17) Create a Shape class with a draw method that is not implemented. \n",
    "### Create three child classes Rectangle, Circle, and Triangle that implement the draw method with their respective drawing behaviors. \n",
    "### Create a list of Shape objects that includes one instance of each child class, and then iterate through the list and call the draw method on each object."
   ]
  },
  {
   "cell_type": "code",
   "execution_count": null,
   "metadata": {},
   "outputs": [],
   "source": [
    "class Shape:\n",
    "    def draw(self,)"
   ]
  }
 ],
 "metadata": {
  "kernelspec": {
   "display_name": "Python 3 (ipykernel)",
   "language": "python",
   "name": "python3"
  },
  "language_info": {
   "codemirror_mode": {
    "name": "ipython",
    "version": 3
   },
   "file_extension": ".py",
   "mimetype": "text/x-python",
   "name": "python",
   "nbconvert_exporter": "python",
   "pygments_lexer": "ipython3",
   "version": "3.12.7"
  }
 },
 "nbformat": 4,
 "nbformat_minor": 4
}
