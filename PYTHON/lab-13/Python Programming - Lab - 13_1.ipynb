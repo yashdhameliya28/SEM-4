{
 "cells": [
  {
   "cell_type": "markdown",
   "metadata": {},
   "source": [
    "<a href='https://www.darshan.ac.in/'> <img src='https://www.darshan.ac.in/Content/media/DU_Logo.svg' width=\"250\" height=\"300\"/></a>\n",
    "<pre>\n",
    "<center><b><h1>Python Programming - 2301CS404</b></center>\n",
    "<center><b><h1>Lab - 13</b></center>\n",
    "    <center><b><h1>Yash Dhameliya</b></center>\n",
    "        <center><b><h1>23010101061</b></center>\n",
    "            <center><b><h1>5-3-2025</b></center>\n",
    "<pre>"
   ]
  },
  {
   "cell_type": "markdown",
   "metadata": {},
   "source": [
    "# OOP"
   ]
  },
  {
   "cell_type": "markdown",
   "metadata": {},
   "source": [
    "### 01) Write a Program to create a class by name Students, and initialize attributes like name, age, and grade while creating an object."
   ]
  },
  {
   "cell_type": "code",
   "execution_count": 4,
   "metadata": {},
   "outputs": [
    {
     "name": "stdout",
     "output_type": "stream",
     "text": [
      "yash\n",
      "18\n",
      "a\n"
     ]
    }
   ],
   "source": [
    "class Student:\n",
    "    def __init__(self, name, age, grade):\n",
    "        self.name = name\n",
    "        self.age = age\n",
    "        self.grade = grade\n",
    "\n",
    "    def printStudent(self):\n",
    "        print(self.name)\n",
    "        print(self.age)\n",
    "        print(self.grade)\n",
    "\n",
    "s1 = Student('yash', 18, 'a')\n",
    "s1.printStudent()"
   ]
  },
  {
   "cell_type": "markdown",
   "metadata": {},
   "source": [
    "### 02) Create a class named Bank_Account with Account_No, User_Name, Email,Account_Type and Account_Balance data members. Also create a method GetAccountDetails() and DisplayAccountDetails(). Create main method to demonstrate the Bank_Account class."
   ]
  },
  {
   "cell_type": "code",
   "execution_count": 7,
   "metadata": {},
   "outputs": [
    {
     "name": "stdout",
     "output_type": "stream",
     "text": [
      "12\n",
      "yash\n",
      "yash@gmail.com\n",
      "saving\n",
      "12000\n"
     ]
    }
   ],
   "source": [
    "class Bank_Account:\n",
    "    def getAccountDetails(self, account_no, user_name, email, account_type, account_balance):\n",
    "        self.account_no = account_no\n",
    "        self.user_name = user_name\n",
    "        self.email = email\n",
    "        self.account_type = account_type\n",
    "        self.account_balance = account_balance\n",
    "\n",
    "    def displayAccountDetails(self):\n",
    "        print(self.account_no)\n",
    "        print(self.user_name)\n",
    "        print(self.email)\n",
    "        print(self.account_type)\n",
    "        print(self.account_balance)\n",
    "\n",
    "user1 = Bank_Account()\n",
    "user1.getAccountDetails(12, 'yash', 'yash@gmail.com', 'saving', 12000)\n",
    "user1.displayAccountDetails()"
   ]
  },
  {
   "cell_type": "markdown",
   "metadata": {},
   "source": [
    "### 03) WAP to create Circle class with area and perimeter function to find area and perimeter of circle."
   ]
  },
  {
   "cell_type": "code",
   "execution_count": 11,
   "metadata": {},
   "outputs": [
    {
     "name": "stdout",
     "output_type": "stream",
     "text": [
      "Area of circle 50.24\n",
      "Pareimeter of circle 25.12\n"
     ]
    }
   ],
   "source": [
    "class Circle:\n",
    "    def __init__(self, radius):\n",
    "        self.radius = radius\n",
    "\n",
    "    def findArea(self):\n",
    "        print('Area of circle', 3.14*self.radius**2)\n",
    "\n",
    "    def findPerimeter(self):\n",
    "        print('Pareimeter of circle', 3.14*self.radius*2)\n",
    "\n",
    "c1 = Circle(4)\n",
    "c1.findArea()\n",
    "c1.findPerimeter()"
   ]
  },
  {
   "cell_type": "markdown",
   "metadata": {},
   "source": [
    "### 04) Create a class for employees that includes attributes such as name, age, salary, and methods to update and display employee information."
   ]
  },
  {
   "cell_type": "code",
   "execution_count": 27,
   "metadata": {},
   "outputs": [
    {
     "name": "stdout",
     "output_type": "stream",
     "text": [
      "yash 18 12000\n",
      "raj 20 20000\n"
     ]
    }
   ],
   "source": [
    "class Employee:\n",
    "    def __init__(self, name, age, salary):\n",
    "        self.name = name\n",
    "        self.age = age\n",
    "        self.salary = salary\n",
    "        # print(self.name)\n",
    "\n",
    "    def updateEmployee(self, name, age, salary):\n",
    "        self.name = name\n",
    "        self.age = age\n",
    "        self.salary = salary\n",
    "\n",
    "    def displayEmployee(self):\n",
    "        print(self.name, self.age, self.salary)        \n",
    "\n",
    "e1 = Employee('yash', 18, 12000)\n",
    "e1.displayEmployee()\n",
    "e1.updateEmployee('raj', 20, 20000)\n",
    "e1.displayEmployee()"
   ]
  },
  {
   "cell_type": "markdown",
   "metadata": {},
   "source": [
    "### 05) Create a bank account class with methods to deposit, withdraw, and check balance."
   ]
  },
  {
   "cell_type": "code",
   "execution_count": 33,
   "metadata": {},
   "outputs": [
    {
     "name": "stdout",
     "output_type": "stream",
     "text": [
      "8000\n"
     ]
    }
   ],
   "source": [
    "class Bank:\n",
    "    def __init__(self, money):\n",
    "        self.money = money\n",
    "\n",
    "    def withdraw(self, withdeawMoney):\n",
    "        if(withdeawMoney < self.money):\n",
    "            self.money -= withdeawMoney\n",
    "        else:\n",
    "            print('You have no money.')\n",
    "\n",
    "    def checkBalance(self):\n",
    "        print(self.money)\n",
    "\n",
    "b1 = Bank(10000)\n",
    "b1.withdraw(2000)\n",
    "b1.checkBalance()"
   ]
  },
  {
   "cell_type": "markdown",
   "metadata": {},
   "source": [
    "### 06) Create a class for managing inventory that includes attributes such as item name, price, quantity, and methods to add, remove, and update items."
   ]
  },
  {
   "cell_type": "code",
   "execution_count": 41,
   "metadata": {},
   "outputs": [
    {
     "name": "stdout",
     "output_type": "stream",
     "text": [
      "Added 100 of Pen at price 10 each.\n",
      "Added 200 of Notebook at price 50 each.\n",
      "\n",
      "Inventory Details:\n",
      "Item: Pen, Price: 10, Quantity: 100\n",
      "Item: Notebook, Price: 50, Quantity: 200\n",
      "Removed 50 of Pen.\n",
      "Updated Notebook.\n",
      "\n",
      "Inventory Details:\n",
      "Item: Pen, Price: 10, Quantity: 50\n",
      "Item: Notebook, Price: 55, Quantity: 150\n"
     ]
    }
   ],
   "source": [
    "class Inventory:\n",
    "    def __init__(self): \n",
    "        self.items = {}\n",
    "\n",
    "    def add_item(self, item_name, price, quantity):\n",
    "        if item_name in self.items:\n",
    "            self.items[item_name][\"quantity\"] += quantity\n",
    "        else:\n",
    "            self.items[item_name] = {\"price\": price, \"quantity\": quantity}\n",
    "        print(f\"Added {quantity} of {item_name} at price {price} each.\")\n",
    "\n",
    "    def remove_item(self, item_name, quantity):\n",
    "        if item_name in self.items:\n",
    "            if self.items[item_name][\"quantity\"] >= quantity:\n",
    "                self.items[item_name][\"quantity\"] -= quantity\n",
    "                print(f\"Removed {quantity} of {item_name}.\")\n",
    "                if self.items[item_name][\"quantity\"] == 0:\n",
    "                    del self.items[item_name]\n",
    "            else:\n",
    "                print(f\"Insufficient quantity of {item_name} to remove.\")\n",
    "        else:\n",
    "            print(f\"Item {item_name} not found in inventory.\")\n",
    "\n",
    "    def update_item(self, item_name, price=None, quantity=None):\n",
    "        if item_name in self.items:\n",
    "            if price is not None:\n",
    "                self.items[item_name][\"price\"] = price\n",
    "            if quantity is not None:\n",
    "                self.items[item_name][\"quantity\"] = quantity\n",
    "            print(f\"Updated {item_name}.\")\n",
    "        else:\n",
    "            print(f\"Item {item_name} not found in inventory.\")\n",
    "\n",
    "    def display_inventory(self):\n",
    "        if not self.items:\n",
    "            print(\"Inventory is empty.\")\n",
    "        else:\n",
    "            print(\"\\nInventory Details:\")\n",
    "            for item_name, details in self.items.items():\n",
    "                print(f\"Item: {item_name}, Price: {details['price']}, Quantity: {details['quantity']}\")\n",
    "\n",
    "\n",
    "inventory = Inventory()\n",
    "inventory.add_item(\"Pen\", 10, 100)\n",
    "inventory.add_item(\"Notebook\", 50, 200)\n",
    "inventory.display_inventory()\n",
    "inventory.remove_item(\"Pen\", 50)\n",
    "inventory.update_item(\"Notebook\", price=55, quantity=150)\n",
    "inventory.display_inventory()"
   ]
  },
  {
   "cell_type": "markdown",
   "metadata": {},
   "source": [
    "### 07) Create a Class with instance attributes of your choice."
   ]
  },
  {
   "cell_type": "code",
   "execution_count": 43,
   "metadata": {},
   "outputs": [
    {
     "name": "stdout",
     "output_type": "stream",
     "text": [
      "\n",
      "Book Details:\n",
      "Title: To Kill a Mockingbird\n",
      "Author: Harper Lee\n",
      "Genre: Fiction\n",
      "Pages: 281\n",
      "To Kill a Mockingbird is a short book with 281 pages.\n",
      "\n",
      "Book Details:\n",
      "Title: Brave New World\n",
      "Author: Aldous Huxley\n",
      "Genre: Fiction\n",
      "Pages: 321\n",
      "Brave New World is a long book with 321 pages.\n"
     ]
    }
   ],
   "source": [
    "class Book:\n",
    "    def __init__(self, title, author, genre, pages):\n",
    "        self.title = title\n",
    "        self.author = author\n",
    "        self.genre = genre\n",
    "        self.pages = pages\n",
    "\n",
    "    def display_info(self):\n",
    "        print(\"\\nBook Details:\")\n",
    "        print(f\"Title: {self.title}\")\n",
    "        print(f\"Author: {self.author}\")\n",
    "        print(f\"Genre: {self.genre}\")\n",
    "        print(f\"Pages: {self.pages}\")\n",
    "\n",
    "    def is_long_book(self):\n",
    "        if self.pages > 300:\n",
    "            return f\"{self.title} is a long book with {self.pages} pages.\"\n",
    "        else:\n",
    "            return f\"{self.title} is a short book with {self.pages} pages.\"\n",
    "\n",
    "book1 = Book(\"To Kill a Mockingbird\", \"Harper Lee\", \"Fiction\", 281)\n",
    "book1.display_info()\n",
    "print(book1.is_long_book())\n",
    "book2 = Book(\"Brave New World\",\"Aldous Huxley\",\"Fiction\",321)\n",
    "book2.display_info()\n",
    "print(book2.is_long_book())"
   ]
  },
  {
   "cell_type": "markdown",
   "metadata": {},
   "source": [
    "### 08) Create one class student_kit\n",
    "#### Within the student_kit class create one class attribute principal name ( Mr ABC )\n",
    "#### Create one attendance method and take input as number of days.\n",
    "#### While creating student take input their name .\n",
    "#### Create one certificate for each student by taking input of number of days present in class."
   ]
  },
  {
   "cell_type": "code",
   "execution_count": 45,
   "metadata": {},
   "outputs": [
    {
     "name": "stdin",
     "output_type": "stream",
     "text": [
      "Enter the student's name:  yash\n",
      "Enter the number of days yash was present:  5\n"
     ]
    },
    {
     "name": "stdout",
     "output_type": "stream",
     "text": [
      "\n",
      "--- Attendance Certificate ---\n",
      "Principal: Mr. ABC\n",
      "Student Name: yash\n",
      "Number of Days Present: 5\n",
      "--------------*\n"
     ]
    }
   ],
   "source": [
    "class StudentKit:\n",
    "    principal_name = \"Mr. ABC\"\n",
    "\n",
    "    def __init__(self, student_name):\n",
    "        self.student_name = student_name\n",
    "        self.attendance_days = 0\n",
    "\n",
    "    def attendance(self, number_of_days):\n",
    "        self.attendance_days = number_of_days\n",
    "\n",
    "    def generate_certificate(self):\n",
    "        print(\"\\n--- Attendance Certificate ---\")\n",
    "        print(f\"Principal: {StudentKit.principal_name}\")\n",
    "        print(f\"Student Name: {self.student_name}\")\n",
    "        print(f\"Number of Days Present: {self.attendance_days}\")\n",
    "        print(\"--------------*\")\n",
    "\n",
    "student_name = input(\"Enter the student's name: \")\n",
    "student = StudentKit(student_name)\n",
    "days_present = int(input(f\"Enter the number of days {student_name} was present: \"))\n",
    "student.attendance(days_present)\n",
    "student.generate_certificate()"
   ]
  },
  {
   "cell_type": "markdown",
   "metadata": {},
   "source": [
    "### 09) Define Time class with hour and minute as data member. Also define addition method to add two time objects."
   ]
  },
  {
   "cell_type": "code",
   "execution_count": 47,
   "metadata": {},
   "outputs": [
    {
     "name": "stdout",
     "output_type": "stream",
     "text": [
      "Resulting Time: 4 hour(s) and 15 minute(s)\n"
     ]
    }
   ],
   "source": [
    "class StudentKit:\n",
    "    principal_name = \"Mr. ABC\"\n",
    "\n",
    "    def __init__(self, student_name):\n",
    "        self.student_name = student_name\n",
    "        self.attendance_days = 0\n",
    "\n",
    "    def attendance(self, number_of_days):\n",
    "        self.attendance_days = number_of_days\n",
    "\n",
    "    def generate_certificate(self):\n",
    "        print(\"\\n--- Attendance Certificate ---\")\n",
    "        print(f\"Principal: {StudentKit.principal_name}\")\n",
    "        print(f\"Student Name: {self.student_name}\")\n",
    "        print(f\"Number of Days Present: {self.attendance_days}\")\n",
    "        print(\"--------------*\")\n",
    "\n",
    "student_name = input(\"Enter the student's name: \")\n",
    "student = StudentKit(student_name)\n",
    "days_present = int(input(f\"Enter the number of days {student_name} was present: \"))\n",
    "student.attendance(days_present)\n",
    "student.generate_certificate()"
   ]
  }
 ],
 "metadata": {
  "kernelspec": {
   "display_name": "Python 3 (ipykernel)",
   "language": "python",
   "name": "python3"
  },
  "language_info": {
   "codemirror_mode": {
    "name": "ipython",
    "version": 3
   },
   "file_extension": ".py",
   "mimetype": "text/x-python",
   "name": "python",
   "nbconvert_exporter": "python",
   "pygments_lexer": "ipython3",
   "version": "3.12.7"
  }
 },
 "nbformat": 4,
 "nbformat_minor": 4
}
