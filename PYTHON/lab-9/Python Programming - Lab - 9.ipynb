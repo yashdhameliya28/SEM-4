{
 "cells": [
  {
   "cell_type": "markdown",
   "metadata": {},
   "source": [
    "<a href='https://www.darshan.ac.in/'> <img src='https://www.darshan.ac.in/Content/media/DU_Logo.svg' width=\"250\" height=\"300\"/></a>\n",
    "<pre>\n",
    "<center><b><h1>Python Programming - 2301CS404</b></center>\n",
    "<center><b><h1>Lab - 9</b></center> \n",
    "    <center><b><h1>Yash Dhameliya</b></center> \n",
    "        <center><b><h1>23010101061</b></center>\n",
    "            <center><b><h1>29-1-25</b></center> \n",
    "<pre>"
   ]
  },
  {
   "cell_type": "markdown",
   "metadata": {},
   "source": [
    "# File I/O"
   ]
  },
  {
   "cell_type": "markdown",
   "metadata": {},
   "source": [
    "### 01) WAP to read and display the contents of a text file. (also try to open the file in some other directory) \n",
    "#### - in the form of a string\n",
    "#### - line by line\n",
    "#### - in the form of a list"
   ]
  },
  {
   "cell_type": "code",
   "execution_count": 30,
   "metadata": {},
   "outputs": [
    {
     "name": "stdout",
     "output_type": "stream",
     "text": [
      "in form of a string yash\n",
      "dhameliya\n",
      "hello\n",
      "\n",
      "['12345\\n', '678910']\n"
     ]
    }
   ],
   "source": [
    "fp = open(\"file1.txt\", \"r\")\n",
    "print(\"in form of a string\", fp.read())\n",
    "fp.close()\n",
    "\n",
    "fp = open(\"file2.txt\")\n",
    "data = fp.readline()\n",
    "print(data)\n",
    "fp.close()\n",
    "\n",
    "fp = open(\"file3.txt\")\n",
    "list_data = fp.readlines()\n",
    "print(list_data)\n",
    "fp.close()"
   ]
  },
  {
   "cell_type": "markdown",
   "metadata": {},
   "source": [
    "### 02) WAP to create file named \"new.txt\" only if it doesn't exist."
   ]
  },
  {
   "cell_type": "code",
   "execution_count": 28,
   "metadata": {},
   "outputs": [],
   "source": [
    "fp = open(\"new.txt\", \"x\")\n",
    "fp.write(\"hiiiii\")\n",
    "fp.close()"
   ]
  },
  {
   "cell_type": "markdown",
   "metadata": {},
   "source": [
    "### 03) WAP to read first 5 lines from the text file."
   ]
  },
  {
   "cell_type": "code",
   "execution_count": 38,
   "metadata": {},
   "outputs": [
    {
     "name": "stdout",
     "output_type": "stream",
     "text": [
      "hello\n",
      "\n",
      "world,\n",
      "\n",
      "how\n",
      "\n",
      "are\n",
      "\n",
      "you?????\n"
     ]
    }
   ],
   "source": [
    "fp = open(\"file2.txt\", \"r\")\n",
    "for i in fp:\n",
    "    print(i)\n",
    "fp.close()"
   ]
  },
  {
   "cell_type": "markdown",
   "metadata": {},
   "source": [
    "### 04) WAP to find the longest word(s) in a file"
   ]
  },
  {
   "cell_type": "code",
   "execution_count": 8,
   "metadata": {},
   "outputs": [
    {
     "name": "stdout",
     "output_type": "stream",
     "text": [
      "howareyounow???\n"
     ]
    }
   ],
   "source": [
    "fp = open(\"file1.txt\", \"r\")\n",
    "list = fp.readlines()\n",
    "largest_length = 0\n",
    "for i in list:\n",
    "    if(largest_length < len(i)):\n",
    "        largest_length = len(i)\n",
    "else:\n",
    "    print(i)\n",
    "\n",
    "fp.close()"
   ]
  },
  {
   "cell_type": "markdown",
   "metadata": {},
   "source": [
    "### 05) WAP to count the no. of lines, words and characters in a given text file."
   ]
  },
  {
   "cell_type": "code",
   "execution_count": 66,
   "metadata": {},
   "outputs": [
    {
     "name": "stdout",
     "output_type": "stream",
     "text": [
      "no. of lines 3\n",
      "no. of words in 1 line 5\n",
      "no. of words in 2 line 7\n",
      "no. of words in 3 line 3\n",
      "no. of character 68\n"
     ]
    }
   ],
   "source": [
    "fp = open(\"file1.txt\", \"r\")\n",
    "list = fp.readlines()\n",
    "print(\"no. of lines\", len(list))\n",
    "no_of_lines = 1\n",
    "no_of_words = 0\n",
    "no_of_character = 0\n",
    "for i in list:\n",
    "    list_line = i.split()\n",
    "    print(f\"no. of words in {no_of_lines} line\",len(list_line))\n",
    "    no_of_lines += 1\n",
    "    for word in list_line:\n",
    "        no_of_character += len(word)\n",
    "    \n",
    "print(\"no. of character\", no_of_character)"
   ]
  },
  {
   "cell_type": "markdown",
   "metadata": {},
   "source": [
    "### 06) WAP to copy the content of a file to the another file."
   ]
  },
  {
   "cell_type": "code",
   "execution_count": 97,
   "metadata": {},
   "outputs": [],
   "source": [
    "fp = open(\"file1.txt\", \"r\")\n",
    "data = fp.read()\n",
    "fp1 = open(\"file2.txt\", \"a\")\n",
    "fp1.write(data)\n",
    "fp.close()\n",
    "fp1.close()"
   ]
  },
  {
   "cell_type": "markdown",
   "metadata": {},
   "source": [
    "### 07) WAP to find the size of the text file. "
   ]
  },
  {
   "cell_type": "code",
   "execution_count": 103,
   "metadata": {},
   "outputs": [
    {
     "name": "stdout",
     "output_type": "stream",
     "text": [
      "83\n"
     ]
    }
   ],
   "source": [
    "fp = open(\"file1.txt\", \"r\")\n",
    "print(fp.seek(0,2))\n",
    "fp.close()"
   ]
  },
  {
   "cell_type": "markdown",
   "metadata": {},
   "source": [
    "### 08) WAP to create an UDF named frequency to count occurances of the specific word in a given text file."
   ]
  },
  {
   "cell_type": "code",
   "execution_count": 109,
   "metadata": {},
   "outputs": [
    {
     "name": "stdout",
     "output_type": "stream",
     "text": [
      "2\n"
     ]
    }
   ],
   "source": [
    "def count_specific_word(list_str, word):\n",
    "    count_of_occurence = 0\n",
    "    for i in list_str:\n",
    "        if(word in i):\n",
    "            count_of_occurence += i.count(word)\n",
    "    else:\n",
    "        print(count_of_occurence)\n",
    "\n",
    "fp = open(\"file1.txt\", \"r\")\n",
    "data = fp.readlines()\n",
    "count_specific_word(data, \"am\")\n",
    "fp.close()"
   ]
  },
  {
   "cell_type": "markdown",
   "metadata": {},
   "source": [
    "### 09) WAP to get the score of five subjects from the user, store them in a file. Fetch those marks and find the highest score."
   ]
  },
  {
   "cell_type": "code",
   "execution_count": 125,
   "metadata": {},
   "outputs": [
    {
     "name": "stdin",
     "output_type": "stream",
     "text": [
      "Enter 1 subject mark 10\n",
      "Enter 2 subject mark 20\n",
      "Enter 3 subject mark 30\n",
      "Enter 4 subject mark 20\n",
      "Enter 5 subject mark 10\n"
     ]
    },
    {
     "name": "stdout",
     "output_type": "stream",
     "text": [
      "highest marks 30\n",
      "\n"
     ]
    }
   ],
   "source": [
    "list_of_marks = [input(f\"Enter {i+1} subject mark\")+\"\\n\" for i in range(0, 5)]\n",
    "# print(list_of_marks)\n",
    "fp = open(\"file3.txt\", \"w\")\n",
    "fp.writelines(list_of_marks)\n",
    "fp.close()\n",
    "fp1 = open(\"file3.txt\", \"r\")\n",
    "data = fp1.readlines()\n",
    "print(\"highest marks\", max(data))\n",
    "fp.close()"
   ]
  },
  {
   "cell_type": "markdown",
   "metadata": {},
   "source": [
    "### 10) WAP to write first 100 prime numbers to a file named primenumbers.txt \n",
    "(Note: each number should be in new line)"
   ]
  },
  {
   "cell_type": "code",
   "execution_count": 2,
   "metadata": {},
   "outputs": [],
   "source": [
    "list_of_primeNumber = []\n",
    "for i in range(1, 101):\n",
    "    if (i == 1 or i == 2 or i == 3):\n",
    "        list_of_primeNumber.append(i)\n",
    "    else:\n",
    "        for j in range(2, i//2+1):\n",
    "            if (i%j == 0):\n",
    "                break\n",
    "        else:\n",
    "            list_of_primeNumber.append(i)\n",
    "\n",
    "# print(list_of_primeNumber)\n",
    "fp = open(\"primenumbers.txt\", \"w\")\n",
    "fp.writelines(str(i)+\"\\n\" for i in list_of_primeNumber)\n",
    "fp.close()"
   ]
  },
  {
   "cell_type": "markdown",
   "metadata": {},
   "source": [
    "### 11) WAP to merge two files and write it in a new file."
   ]
  },
  {
   "cell_type": "code",
   "execution_count": 14,
   "metadata": {},
   "outputs": [
    {
     "name": "stdout",
     "output_type": "stream",
     "text": [
      "hiiii i am is abc\n",
      "i am purcing b.tech in computer science \n",
      "at datshan university\n",
      "10\n",
      "10\n",
      "10\n",
      "10\n",
      "10\n",
      "\n",
      "data inserted.\n"
     ]
    }
   ],
   "source": [
    "fp1 = open(\"file1.txt\", \"r\")\n",
    "data = fp1.read()\n",
    "print(data)\n",
    "fp1.close()\n",
    "fp2 = open(\"file3.txt\", \"r\")\n",
    "data1 = fp2.read()\n",
    "print(data1)\n",
    "fp2.close()\n",
    "fp3 = open(\"newFile.txt\", \"w\")\n",
    "fp3.write(data + data1)\n",
    "print(\"data inserted.\")\n",
    "fp3.close()"
   ]
  },
  {
   "cell_type": "markdown",
   "metadata": {},
   "source": [
    "### 12) WAP to replace word1 by word2 of a text file. Write the updated data to new file."
   ]
  },
  {
   "cell_type": "code",
   "execution_count": 36,
   "metadata": {},
   "outputs": [
    {
     "name": "stdin",
     "output_type": "stream",
     "text": [
      "Enter word to replace am\n",
      "Enter a word ma\n"
     ]
    },
    {
     "name": "stdout",
     "output_type": "stream",
     "text": [
      "['hiiii i ma is abc\\n', 'i ma purcing b.tech in computer science \\n', 'at datshan university']\n"
     ]
    }
   ],
   "source": [
    "def replaceWord(list, word, replaceWord):\n",
    "    updated_list = []\n",
    "    for lines in list:\n",
    "        updated_list.append(lines.replace(word, replaceWord))\n",
    "    return updated_list\n",
    "\n",
    "word = input(\"Enter word to replace\")\n",
    "replacedWord = input(\"Enter a word\")\n",
    "fp = open(\"file1.txt\", \"r\")\n",
    "data = fp.readlines()\n",
    "updated_data = replaceWord(data, word, replacedWord)\n",
    "print(updated_data)\n",
    "fp.close()"
   ]
  },
  {
   "cell_type": "markdown",
   "metadata": {},
   "source": [
    "### 13) Demonstrate tell() and seek() for all the cases(seek from beginning-end-current position) taking a suitable example of your choice."
   ]
  },
  {
   "cell_type": "code",
   "execution_count": 32,
   "metadata": {},
   "outputs": [
    {
     "name": "stdout",
     "output_type": "stream",
     "text": [
      "0\n",
      "2\n",
      "4\n",
      "82\n"
     ]
    }
   ],
   "source": [
    "fp = open(\"file1.txt\", \"rb\")\n",
    "print(fp.tell())\n",
    "fp.seek(2,0)\n",
    "print(fp.tell())\n",
    "fp.seek(2,1)\n",
    "print(fp.tell())\n",
    "fp.seek(2,2)\n",
    "print(fp.tell())\n",
    "fp.close()"
   ]
  }
 ],
 "metadata": {
  "kernelspec": {
   "display_name": "Python 3 (ipykernel)",
   "language": "python",
   "name": "python3"
  },
  "language_info": {
   "codemirror_mode": {
    "name": "ipython",
    "version": 3
   },
   "file_extension": ".py",
   "mimetype": "text/x-python",
   "name": "python",
   "nbconvert_exporter": "python",
   "pygments_lexer": "ipython3",
   "version": "3.12.7"
  }
 },
 "nbformat": 4,
 "nbformat_minor": 4
}
